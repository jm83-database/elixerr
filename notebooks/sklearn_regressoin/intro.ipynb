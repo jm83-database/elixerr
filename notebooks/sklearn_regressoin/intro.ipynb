{
  "cells": [
    {
      "cell_type": "code",
      "execution_count": null,
      "metadata": {
        "id": "H-FX5bBb6cG9"
      },
      "outputs": [],
      "source": [
        "# 미션: 숫자 리스트의 모든 요소를 제곱한 후 새로운 리스트로 반환하기"
      ]
    },
    {
      "cell_type": "code",
      "execution_count": 3,
      "metadata": {
        "id": "8FABTWPE65LD"
      },
      "outputs": [
        {
          "name": "stdout",
          "output_type": "stream",
          "text": [
            "[1, 4, 9, 16, 25]\n"
          ]
        }
      ],
      "source": [
        "numbers = [1, 2, 3, 4, 5]\n",
        "squared_numbers = [i**2 for i in numbers] # TODO: YOUR CODE HERE\n",
        "print(squared_numbers)"
      ]
    },
    {
      "cell_type": "code",
      "execution_count": null,
      "metadata": {
        "id": "1iM_f0bg65Uk"
      },
      "outputs": [],
      "source": [
        "# 미션: 학생들의 이름과 점수가 있는 딕셔너리에서, 점수가 70점 이상인 학생들만 출력"
      ]
    },
    {
      "cell_type": "code",
      "execution_count": 24,
      "metadata": {
        "id": "RYnHlxx47G8c"
      },
      "outputs": [
        {
          "name": "stdout",
          "output_type": "stream",
          "text": [
            "{'Alice': 85, 'Charlie': 72, 'David': 90}\n"
          ]
        }
      ],
      "source": [
        "students = {'Alice': 85, 'Bob': 67, 'Charlie': 72, 'David': 90}\n",
        "passed_students = {key : value for key, value in students.items() if value >= 70} # TODO: YOUR CODE HERE\n",
        "print(passed_students)"
      ]
    },
    {
      "cell_type": "code",
      "execution_count": null,
      "metadata": {
        "id": "0pfxmUda7L1N"
      },
      "outputs": [],
      "source": [
        "# 미션: 두 숫자의 합을 계산하는 함수를 작성"
      ]
    },
    {
      "cell_type": "code",
      "execution_count": 23,
      "metadata": {
        "id": "DQShaNEw7N4r"
      },
      "outputs": [
        {
          "name": "stdout",
          "output_type": "stream",
          "text": [
            "30\n"
          ]
        }
      ],
      "source": [
        "# TODO: YOUR CODE HERE\n",
        "def add_numbers(a, b):\n",
        "    return a + b\n",
        "\n",
        "result = add_numbers(10, 20)\n",
        "print(result)"
      ]
    },
    {
      "cell_type": "code",
      "execution_count": null,
      "metadata": {
        "id": "o0X_wyUW7Vl-"
      },
      "outputs": [],
      "source": [
        "# 미션: 텍스트 파일을 읽고, 파일의 각 줄을 역순으로 출력하세요.\n",
        "# 2~3줄의 문장이 들어있는 간단한 sample.txt 파일을 만들어주세요"
      ]
    },
    {
      "cell_type": "code",
      "execution_count": 27,
      "metadata": {
        "id": "3oF3l-lD7XPD"
      },
      "outputs": [
        {
          "name": "stdout",
          "output_type": "stream",
          "text": [
            "\n",
            ".요세하녕안\n",
            ".다니입일파 txt.elpmas\n",
            ".요세계히녕안\n"
          ]
        }
      ],
      "source": [
        "data = '''\n",
        "안녕하세요.\n",
        "sample.txt 파일입니다.\n",
        "안녕히계세요.\n",
        "'''\n",
        "# 파일 쓰기\n",
        "with open('sample.txt', 'w', newline='') as file:\n",
        "    file.write(data)\n",
        "    \n",
        "# 파일 읽기    \n",
        "with open('sample.txt', 'r') as file:\n",
        "    lines = file.readlines()\n",
        "    reversed_lines = [line.strip()[::-1] for line in lines] # TODO: YOUR CODE HERE\n",
        "    for line in reversed_lines:\n",
        "        print(line)\n"
      ]
    },
    {
      "cell_type": "code",
      "execution_count": null,
      "metadata": {
        "id": "cLh17mxv8jxj"
      },
      "outputs": [],
      "source": [
        "# 미션: CSV 파일을 읽고, 'column_name' 열의 평균값을 계산하세요.\n",
        "# 먼저 data.csv파일을 만드는 코드셀을 실행하세요"
      ]
    },
    {
      "cell_type": "code",
      "execution_count": 28,
      "metadata": {
        "id": "Qw3tkjvDKbes"
      },
      "outputs": [
        {
          "name": "stdout",
          "output_type": "stream",
          "text": [
            "data.csv 파일이 성공적으로 생성되었습니다.\n"
          ]
        }
      ],
      "source": [
        "import csv\n",
        "\n",
        "# 데이터 정의\n",
        "data = [\n",
        "    ['column_group', 'column_name', 'other_column'],\n",
        "    ['A', 10, 5],\n",
        "    ['B', 20, 15],\n",
        "    ['D', 30, 25],\n",
        "    ['C', 40, 35],\n",
        "    ['A', 50, 45],\n",
        "    ['C', 60, 55],\n",
        "    ['A', 70, 65],\n",
        "    ['D', 80, 75],\n",
        "    ['B', 90, 85],\n",
        "    ['B', 100, 95]\n",
        "]\n",
        "\n",
        "# 파일 쓰기\n",
        "with open('data.csv', 'w', newline='') as file:\n",
        "    writer = csv.writer(file)\n",
        "    writer.writerows(data)\n",
        "\n",
        "print(\"data.csv 파일이 성공적으로 생성되었습니다.\")"
      ]
    },
    {
      "cell_type": "code",
      "execution_count": 29,
      "metadata": {
        "id": "K8dxRpHB8l1C"
      },
      "outputs": [
        {
          "name": "stdout",
          "output_type": "stream",
          "text": [
            "55.0\n"
          ]
        }
      ],
      "source": [
        "import pandas as pd\n",
        "\n",
        "df = pd.read_csv('data.csv')\n",
        "average_value = df.column_name.mean()# TODO: YOUR CODE HERE\n",
        "print(average_value)"
      ]
    },
    {
      "cell_type": "code",
      "execution_count": null,
      "metadata": {
        "id": "SNzaeZ728sbq"
      },
      "outputs": [],
      "source": [
        "# 미션: 데이터 프레임에서 특정 조건('column_name'열 중 50초과)을 만족하는 행만 선택하세요."
      ]
    },
    {
      "cell_type": "code",
      "execution_count": 35,
      "metadata": {
        "id": "R5Xo6X4K8ujt"
      },
      "outputs": [
        {
          "name": "stdout",
          "output_type": "stream",
          "text": [
            "  column_group  column_name  other_column\n",
            "5            C           60            55\n",
            "6            A           70            65\n",
            "7            D           80            75\n",
            "8            B           90            85\n",
            "9            B          100            95\n"
          ]
        }
      ],
      "source": [
        "filtered_df = df[df.column_name > 50] # TODO: YOUR CODE HERE\n",
        "print(filtered_df)"
      ]
    },
    {
      "cell_type": "code",
      "execution_count": null,
      "metadata": {
        "id": "SepQLBHb9a6k"
      },
      "outputs": [],
      "source": [
        "# 미션: 데이터 프레임을 'column_group' 열에 의해 그룹화하고, 그룹별 합계를 계산하세요."
      ]
    },
    {
      "cell_type": "code",
      "execution_count": 33,
      "metadata": {
        "id": "lwJB45go9c0R"
      },
      "outputs": [
        {
          "name": "stdout",
          "output_type": "stream",
          "text": [
            "              column_name  other_column\n",
            "column_group                           \n",
            "A                     130           115\n",
            "B                     210           195\n",
            "C                     100            90\n",
            "D                     110           100\n"
          ]
        }
      ],
      "source": [
        "grouped_df = df.groupby('column_group').sum()# TODO: YOUR CODE HERE\n",
        "print(grouped_df)"
      ]
    },
    {
      "cell_type": "code",
      "execution_count": null,
      "metadata": {
        "id": "LAnBLD6UHBbf"
      },
      "outputs": [],
      "source": [
        "# 미션: 로또 번호 생성기\n",
        "# 주제: 1부터 45까지의 숫자 중에서 랜덤으로 6개의 로또 번호를 생성하는 프로그램을 작성하세요.\n",
        "# 요구사항: 6개의 숫자가 중복되지 않도록 랜덤으로 생성합니다."
      ]
    },
    {
      "cell_type": "code",
      "execution_count": 39,
      "metadata": {},
      "outputs": [
        {
          "name": "stdout",
          "output_type": "stream",
          "text": [
            "[30, 10, 11, 26, 16, 1]\n"
          ]
        }
      ],
      "source": [
        "import random\n",
        "numbers = list(range(1, 46))\n",
        "\n",
        "def generate_lotto_numbers():\n",
        "    random.shuffle(numbers)\n",
        "    return numbers[:6]\n",
        "\n",
        "print(generate_lotto_numbers())"
      ]
    },
    {
      "cell_type": "code",
      "execution_count": null,
      "metadata": {
        "id": "ZEsaIhQdGtvn"
      },
      "outputs": [],
      "source": [
        "# 미션: 숫자 맞추기 게임\n",
        "# 주제: 컴퓨터가 1에서 100 사이의 랜덤 숫자를 선택하고, 사용자가 이를 맞추는 게임을 만드세요.\n",
        "# 요구사항: 사용자가 숫자를 입력하면, 컴퓨터가 더 큰지 작은지를 알려주고, 맞출 때까지 반복합니다."
      ]
    },
    {
      "cell_type": "code",
      "execution_count": 40,
      "metadata": {},
      "outputs": [
        {
          "name": "stdout",
          "output_type": "stream",
          "text": [
            "입력하신 숫자가 정답보다 작네요!\n",
            "입력하신 숫자가 정답보다 작네요!\n",
            "입력하신 숫자가 정답보다 작네요!\n",
            "입력하신 숫자가 정답보다 작네요!\n",
            "입력하신 숫자가 정답보다 작네요!\n",
            "입력하신 숫자가 정답보다 작네요!\n",
            "입력하신 숫자가 정답보다 크네요!\n",
            "입력하신 숫자가 정답보다 작네요!\n",
            "입력하신 숫자가 정답보다 작네요!\n",
            "대단하시네요! 정답을 맞추셨어요!\n"
          ]
        }
      ],
      "source": [
        "import random\n",
        "\n",
        "def play_guessing_game():\n",
        "    random_number = random.randint(1, 100)\n",
        "    \n",
        "    while True:\n",
        "        user_input = int(input(\"1~100 사이의 숫자를 입력하세요: \"))\n",
        "        \n",
        "        if user_input == random_number:\n",
        "            print(\"대단하시네요! 정답을 맞추셨어요!\")\n",
        "            break\n",
        "        elif user_input < random_number:\n",
        "            print(\"입력하신 숫자가 정답보다 작네요!\")\n",
        "        else:\n",
        "            print(\"입력하신 숫자가 정답보다 크네요!\")\n",
        "            \n",
        "play_guessing_game()"
      ]
    },
    {
      "cell_type": "code",
      "execution_count": null,
      "metadata": {
        "id": "e_HCY52GHHc4"
      },
      "outputs": [],
      "source": [
        "# 미션: 구구단 출력기\n",
        "# 주제: 2단부터 9단까지의 구구단을 출력하는 프로그램을 작성하세요.\n",
        "# 요구사항: 2단부터 9단까지의 곱셈 결과를 출력합니다."
      ]
    },
    {
      "cell_type": "code",
      "execution_count": 38,
      "metadata": {},
      "outputs": [
        {
          "name": "stdout",
          "output_type": "stream",
          "text": [
            "2단:\n",
            "2 x 1 = 2\n",
            "2 x 2 = 4\n",
            "2 x 3 = 6\n",
            "2 x 4 = 8\n",
            "2 x 5 = 10\n",
            "2 x 6 = 12\n",
            "2 x 7 = 14\n",
            "2 x 8 = 16\n",
            "2 x 9 = 18\n",
            "3단:\n",
            "3 x 1 = 3\n",
            "3 x 2 = 6\n",
            "3 x 3 = 9\n",
            "3 x 4 = 12\n",
            "3 x 5 = 15\n",
            "3 x 6 = 18\n",
            "3 x 7 = 21\n",
            "3 x 8 = 24\n",
            "3 x 9 = 27\n",
            "4단:\n",
            "4 x 1 = 4\n",
            "4 x 2 = 8\n",
            "4 x 3 = 12\n",
            "4 x 4 = 16\n",
            "4 x 5 = 20\n",
            "4 x 6 = 24\n",
            "4 x 7 = 28\n",
            "4 x 8 = 32\n",
            "4 x 9 = 36\n",
            "5단:\n",
            "5 x 1 = 5\n",
            "5 x 2 = 10\n",
            "5 x 3 = 15\n",
            "5 x 4 = 20\n",
            "5 x 5 = 25\n",
            "5 x 6 = 30\n",
            "5 x 7 = 35\n",
            "5 x 8 = 40\n",
            "5 x 9 = 45\n",
            "6단:\n",
            "6 x 1 = 6\n",
            "6 x 2 = 12\n",
            "6 x 3 = 18\n",
            "6 x 4 = 24\n",
            "6 x 5 = 30\n",
            "6 x 6 = 36\n",
            "6 x 7 = 42\n",
            "6 x 8 = 48\n",
            "6 x 9 = 54\n",
            "7단:\n",
            "7 x 1 = 7\n",
            "7 x 2 = 14\n",
            "7 x 3 = 21\n",
            "7 x 4 = 28\n",
            "7 x 5 = 35\n",
            "7 x 6 = 42\n",
            "7 x 7 = 49\n",
            "7 x 8 = 56\n",
            "7 x 9 = 63\n",
            "8단:\n",
            "8 x 1 = 8\n",
            "8 x 2 = 16\n",
            "8 x 3 = 24\n",
            "8 x 4 = 32\n",
            "8 x 5 = 40\n",
            "8 x 6 = 48\n",
            "8 x 7 = 56\n",
            "8 x 8 = 64\n",
            "8 x 9 = 72\n",
            "9단:\n",
            "9 x 1 = 9\n",
            "9 x 2 = 18\n",
            "9 x 3 = 27\n",
            "9 x 4 = 36\n",
            "9 x 5 = 45\n",
            "9 x 6 = 54\n",
            "9 x 7 = 63\n",
            "9 x 8 = 72\n",
            "9 x 9 = 81\n"
          ]
        }
      ],
      "source": [
        "def multiply_table():\n",
        "    for i in range(2, 10):\n",
        "        print(f\"{i}단:\")\n",
        "        for j in range(1, 10):\n",
        "            print(f\"{i} x {j} = {i*j}\")\n",
        "\n",
        "multiply_table()"
      ]
    }
  ],
  "metadata": {
    "colab": {
      "provenance": []
    },
    "kernelspec": {
      "display_name": "Python 3",
      "name": "python3"
    },
    "language_info": {
      "codemirror_mode": {
        "name": "ipython",
        "version": 3
      },
      "file_extension": ".py",
      "mimetype": "text/x-python",
      "name": "python",
      "nbconvert_exporter": "python",
      "pygments_lexer": "ipython3",
      "version": "3.12.1"
    }
  },
  "nbformat": 4,
  "nbformat_minor": 0
}
