{
 "cells": [
  {
   "cell_type": "markdown",
   "metadata": {},
   "source": [
    "# 패키지 임포트"
   ]
  },
  {
   "cell_type": "code",
   "execution_count": 179,
   "metadata": {},
   "outputs": [],
   "source": [
    "import pandas as pd\n",
    "import seaborn as sns\n",
    "import matplotlib.pyplot as plt\n",
    "import warnings\n",
    "import folium\n",
    "warnings.filterwarnings('ignore') # 파일 오류 무시\n",
    "plt.rc('font', family='Malgun Gothic') # 차트에 한글 글자 깨짐 방지"
   ]
  },
  {
   "cell_type": "markdown",
   "metadata": {},
   "source": [
    "# 데이터 불러오기(대여이력)"
   ]
  },
  {
   "cell_type": "code",
   "execution_count": 180,
   "metadata": {},
   "outputs": [
    {
     "data": {
      "text/html": [
       "<div>\n",
       "<style scoped>\n",
       "    .dataframe tbody tr th:only-of-type {\n",
       "        vertical-align: middle;\n",
       "    }\n",
       "\n",
       "    .dataframe tbody tr th {\n",
       "        vertical-align: top;\n",
       "    }\n",
       "\n",
       "    .dataframe thead th {\n",
       "        text-align: right;\n",
       "    }\n",
       "</style>\n",
       "<table border=\"1\" class=\"dataframe\">\n",
       "  <thead>\n",
       "    <tr style=\"text-align: right;\">\n",
       "      <th></th>\n",
       "      <th>자전거번호</th>\n",
       "      <th>대여일시</th>\n",
       "      <th>대여 대여소번호</th>\n",
       "      <th>대여 대여소명</th>\n",
       "      <th>대여거치대</th>\n",
       "      <th>반납일시</th>\n",
       "      <th>반납대여소번호</th>\n",
       "      <th>반납대여소명</th>\n",
       "      <th>반납거치대</th>\n",
       "      <th>이용시간</th>\n",
       "      <th>이용거리</th>\n",
       "    </tr>\n",
       "  </thead>\n",
       "  <tbody>\n",
       "    <tr>\n",
       "      <th>0</th>\n",
       "      <td>SPB-22040</td>\n",
       "      <td>2019-06-03 08:49:27</td>\n",
       "      <td>646</td>\n",
       "      <td>장한평역 1번출구 (국민은행앞)</td>\n",
       "      <td>1</td>\n",
       "      <td>2019-06-03 09:17:10</td>\n",
       "      <td>3</td>\n",
       "      <td>중랑센터</td>\n",
       "      <td>14</td>\n",
       "      <td>27</td>\n",
       "      <td>1330.0</td>\n",
       "    </tr>\n",
       "    <tr>\n",
       "      <th>1</th>\n",
       "      <td>SPB-07446</td>\n",
       "      <td>2019-06-03 08:33:22</td>\n",
       "      <td>526</td>\n",
       "      <td>용답토속공원 앞</td>\n",
       "      <td>8</td>\n",
       "      <td>2019-06-03 09:27:16</td>\n",
       "      <td>3</td>\n",
       "      <td>중랑센터</td>\n",
       "      <td>14</td>\n",
       "      <td>54</td>\n",
       "      <td>1180.0</td>\n",
       "    </tr>\n",
       "    <tr>\n",
       "      <th>2</th>\n",
       "      <td>SPB-20387</td>\n",
       "      <td>2019-06-05 08:27:47</td>\n",
       "      <td>646</td>\n",
       "      <td>장한평역 1번출구 (국민은행앞)</td>\n",
       "      <td>1</td>\n",
       "      <td>2019-06-05 08:41:31</td>\n",
       "      <td>3</td>\n",
       "      <td>중랑센터</td>\n",
       "      <td>2</td>\n",
       "      <td>12</td>\n",
       "      <td>1930.0</td>\n",
       "    </tr>\n",
       "    <tr>\n",
       "      <th>3</th>\n",
       "      <td>SPB-16794</td>\n",
       "      <td>2019-06-05 08:46:29</td>\n",
       "      <td>646</td>\n",
       "      <td>장한평역 1번출구 (국민은행앞)</td>\n",
       "      <td>6</td>\n",
       "      <td>2019-06-05 08:53:10</td>\n",
       "      <td>3</td>\n",
       "      <td>중랑센터</td>\n",
       "      <td>14</td>\n",
       "      <td>6</td>\n",
       "      <td>1340.0</td>\n",
       "    </tr>\n",
       "    <tr>\n",
       "      <th>4</th>\n",
       "      <td>SPB-18266</td>\n",
       "      <td>2019-06-10 08:27:26</td>\n",
       "      <td>529</td>\n",
       "      <td>장한평역 8번 출구 앞</td>\n",
       "      <td>10</td>\n",
       "      <td>2019-06-10 08:33:40</td>\n",
       "      <td>3</td>\n",
       "      <td>중랑센터</td>\n",
       "      <td>2</td>\n",
       "      <td>5</td>\n",
       "      <td>1230.0</td>\n",
       "    </tr>\n",
       "    <tr>\n",
       "      <th>...</th>\n",
       "      <td>...</td>\n",
       "      <td>...</td>\n",
       "      <td>...</td>\n",
       "      <td>...</td>\n",
       "      <td>...</td>\n",
       "      <td>...</td>\n",
       "      <td>...</td>\n",
       "      <td>...</td>\n",
       "      <td>...</td>\n",
       "      <td>...</td>\n",
       "      <td>...</td>\n",
       "    </tr>\n",
       "    <tr>\n",
       "      <th>799955</th>\n",
       "      <td>SPB-22522</td>\n",
       "      <td>2019-06-01 17:47:47</td>\n",
       "      <td>726</td>\n",
       "      <td>목동3단지 시내버스정류장</td>\n",
       "      <td>6</td>\n",
       "      <td>2019-06-01 18:44:20</td>\n",
       "      <td>735</td>\n",
       "      <td>영도초등학교</td>\n",
       "      <td>5</td>\n",
       "      <td>52</td>\n",
       "      <td>2020.0</td>\n",
       "    </tr>\n",
       "    <tr>\n",
       "      <th>799956</th>\n",
       "      <td>SPB-01434</td>\n",
       "      <td>2019-06-01 17:49:18</td>\n",
       "      <td>735</td>\n",
       "      <td>영도초등학교</td>\n",
       "      <td>1</td>\n",
       "      <td>2019-06-01 18:55:01</td>\n",
       "      <td>735</td>\n",
       "      <td>영도초등학교</td>\n",
       "      <td>2</td>\n",
       "      <td>65</td>\n",
       "      <td>7990.0</td>\n",
       "    </tr>\n",
       "    <tr>\n",
       "      <th>799957</th>\n",
       "      <td>SPB-18503</td>\n",
       "      <td>2019-06-01 17:48:02</td>\n",
       "      <td>735</td>\n",
       "      <td>영도초등학교</td>\n",
       "      <td>8</td>\n",
       "      <td>2019-06-01 18:55:29</td>\n",
       "      <td>735</td>\n",
       "      <td>영도초등학교</td>\n",
       "      <td>4</td>\n",
       "      <td>66</td>\n",
       "      <td>7910.0</td>\n",
       "    </tr>\n",
       "    <tr>\n",
       "      <th>799958</th>\n",
       "      <td>SPB-19656</td>\n",
       "      <td>2019-06-01 18:55:01</td>\n",
       "      <td>762</td>\n",
       "      <td>오목로 무중력지대 앞</td>\n",
       "      <td>1</td>\n",
       "      <td>2019-06-01 19:08:12</td>\n",
       "      <td>735</td>\n",
       "      <td>영도초등학교</td>\n",
       "      <td>10</td>\n",
       "      <td>13</td>\n",
       "      <td>2120.0</td>\n",
       "    </tr>\n",
       "    <tr>\n",
       "      <th>799959</th>\n",
       "      <td>SPB-10785</td>\n",
       "      <td>2019-06-01 19:12:48</td>\n",
       "      <td>1136</td>\n",
       "      <td>등촌2파출소</td>\n",
       "      <td>10</td>\n",
       "      <td>2019-06-01 19:23:10</td>\n",
       "      <td>735</td>\n",
       "      <td>영도초등학교</td>\n",
       "      <td>10</td>\n",
       "      <td>10</td>\n",
       "      <td>1620.0</td>\n",
       "    </tr>\n",
       "  </tbody>\n",
       "</table>\n",
       "<p>799960 rows × 11 columns</p>\n",
       "</div>"
      ],
      "text/plain": [
       "            자전거번호                 대여일시  대여 대여소번호            대여 대여소명  대여거치대  \\\n",
       "0       SPB-22040  2019-06-03 08:49:27       646  장한평역 1번출구 (국민은행앞)      1   \n",
       "1       SPB-07446  2019-06-03 08:33:22       526           용답토속공원 앞      8   \n",
       "2       SPB-20387  2019-06-05 08:27:47       646  장한평역 1번출구 (국민은행앞)      1   \n",
       "3       SPB-16794  2019-06-05 08:46:29       646  장한평역 1번출구 (국민은행앞)      6   \n",
       "4       SPB-18266  2019-06-10 08:27:26       529       장한평역 8번 출구 앞     10   \n",
       "...           ...                  ...       ...                ...    ...   \n",
       "799955  SPB-22522  2019-06-01 17:47:47       726      목동3단지 시내버스정류장      6   \n",
       "799956  SPB-01434  2019-06-01 17:49:18       735             영도초등학교      1   \n",
       "799957  SPB-18503  2019-06-01 17:48:02       735             영도초등학교      8   \n",
       "799958  SPB-19656  2019-06-01 18:55:01       762        오목로 무중력지대 앞      1   \n",
       "799959  SPB-10785  2019-06-01 19:12:48      1136             등촌2파출소     10   \n",
       "\n",
       "                       반납일시  반납대여소번호  반납대여소명  반납거치대  이용시간    이용거리  \n",
       "0       2019-06-03 09:17:10        3    중랑센터     14    27  1330.0  \n",
       "1       2019-06-03 09:27:16        3    중랑센터     14    54  1180.0  \n",
       "2       2019-06-05 08:41:31        3    중랑센터      2    12  1930.0  \n",
       "3       2019-06-05 08:53:10        3    중랑센터     14     6  1340.0  \n",
       "4       2019-06-10 08:33:40        3    중랑센터      2     5  1230.0  \n",
       "...                     ...      ...     ...    ...   ...     ...  \n",
       "799955  2019-06-01 18:44:20      735  영도초등학교      5    52  2020.0  \n",
       "799956  2019-06-01 18:55:01      735  영도초등학교      2    65  7990.0  \n",
       "799957  2019-06-01 18:55:29      735  영도초등학교      4    66  7910.0  \n",
       "799958  2019-06-01 19:08:12      735  영도초등학교     10    13  2120.0  \n",
       "799959  2019-06-01 19:23:10      735  영도초등학교     10    10  1620.0  \n",
       "\n",
       "[799960 rows x 11 columns]"
      ]
     },
     "execution_count": 180,
     "metadata": {},
     "output_type": "execute_result"
    }
   ],
   "source": [
    "pd.read_csv('../../data/public_bike/서울특별시 공공자전거 대여정보_201906_1.csv', encoding='cp949')"
   ]
  },
  {
   "cell_type": "code",
   "execution_count": 181,
   "metadata": {},
   "outputs": [
    {
     "data": {
      "text/html": [
       "<div>\n",
       "<style scoped>\n",
       "    .dataframe tbody tr th:only-of-type {\n",
       "        vertical-align: middle;\n",
       "    }\n",
       "\n",
       "    .dataframe tbody tr th {\n",
       "        vertical-align: top;\n",
       "    }\n",
       "\n",
       "    .dataframe thead th {\n",
       "        text-align: right;\n",
       "    }\n",
       "</style>\n",
       "<table border=\"1\" class=\"dataframe\">\n",
       "  <thead>\n",
       "    <tr style=\"text-align: right;\">\n",
       "      <th></th>\n",
       "      <th>자전거번호</th>\n",
       "      <th>대여일시</th>\n",
       "      <th>대여 대여소번호</th>\n",
       "      <th>대여 대여소명</th>\n",
       "      <th>대여거치대</th>\n",
       "      <th>반납일시</th>\n",
       "      <th>반납대여소번호</th>\n",
       "      <th>반납대여소명</th>\n",
       "      <th>반납거치대</th>\n",
       "      <th>이용시간</th>\n",
       "      <th>이용거리</th>\n",
       "    </tr>\n",
       "  </thead>\n",
       "  <tbody>\n",
       "    <tr>\n",
       "      <th>0</th>\n",
       "      <td>SPB-22040</td>\n",
       "      <td>2019-06-03 08:49:27</td>\n",
       "      <td>646</td>\n",
       "      <td>장한평역 1번출구 (국민은행앞)</td>\n",
       "      <td>1</td>\n",
       "      <td>2019-06-03 09:17:10</td>\n",
       "      <td>3</td>\n",
       "      <td>중랑센터</td>\n",
       "      <td>14</td>\n",
       "      <td>27</td>\n",
       "      <td>1330.0</td>\n",
       "    </tr>\n",
       "    <tr>\n",
       "      <th>1</th>\n",
       "      <td>SPB-07446</td>\n",
       "      <td>2019-06-03 08:33:22</td>\n",
       "      <td>526</td>\n",
       "      <td>용답토속공원 앞</td>\n",
       "      <td>8</td>\n",
       "      <td>2019-06-03 09:27:16</td>\n",
       "      <td>3</td>\n",
       "      <td>중랑센터</td>\n",
       "      <td>14</td>\n",
       "      <td>54</td>\n",
       "      <td>1180.0</td>\n",
       "    </tr>\n",
       "    <tr>\n",
       "      <th>2</th>\n",
       "      <td>SPB-20387</td>\n",
       "      <td>2019-06-05 08:27:47</td>\n",
       "      <td>646</td>\n",
       "      <td>장한평역 1번출구 (국민은행앞)</td>\n",
       "      <td>1</td>\n",
       "      <td>2019-06-05 08:41:31</td>\n",
       "      <td>3</td>\n",
       "      <td>중랑센터</td>\n",
       "      <td>2</td>\n",
       "      <td>12</td>\n",
       "      <td>1930.0</td>\n",
       "    </tr>\n",
       "    <tr>\n",
       "      <th>3</th>\n",
       "      <td>SPB-16794</td>\n",
       "      <td>2019-06-05 08:46:29</td>\n",
       "      <td>646</td>\n",
       "      <td>장한평역 1번출구 (국민은행앞)</td>\n",
       "      <td>6</td>\n",
       "      <td>2019-06-05 08:53:10</td>\n",
       "      <td>3</td>\n",
       "      <td>중랑센터</td>\n",
       "      <td>14</td>\n",
       "      <td>6</td>\n",
       "      <td>1340.0</td>\n",
       "    </tr>\n",
       "    <tr>\n",
       "      <th>4</th>\n",
       "      <td>SPB-18266</td>\n",
       "      <td>2019-06-10 08:27:26</td>\n",
       "      <td>529</td>\n",
       "      <td>장한평역 8번 출구 앞</td>\n",
       "      <td>10</td>\n",
       "      <td>2019-06-10 08:33:40</td>\n",
       "      <td>3</td>\n",
       "      <td>중랑센터</td>\n",
       "      <td>2</td>\n",
       "      <td>5</td>\n",
       "      <td>1230.0</td>\n",
       "    </tr>\n",
       "  </tbody>\n",
       "</table>\n",
       "</div>"
      ],
      "text/plain": [
       "       자전거번호                대여일시  대여 대여소번호            대여 대여소명  대여거치대  \\\n",
       "0  SPB-22040 2019-06-03 08:49:27       646  장한평역 1번출구 (국민은행앞)      1   \n",
       "1  SPB-07446 2019-06-03 08:33:22       526           용답토속공원 앞      8   \n",
       "2  SPB-20387 2019-06-05 08:27:47       646  장한평역 1번출구 (국민은행앞)      1   \n",
       "3  SPB-16794 2019-06-05 08:46:29       646  장한평역 1번출구 (국민은행앞)      6   \n",
       "4  SPB-18266 2019-06-10 08:27:26       529       장한평역 8번 출구 앞     10   \n",
       "\n",
       "                  반납일시  반납대여소번호 반납대여소명  반납거치대  이용시간    이용거리  \n",
       "0  2019-06-03 09:17:10        3   중랑센터     14    27  1330.0  \n",
       "1  2019-06-03 09:27:16        3   중랑센터     14    54  1180.0  \n",
       "2  2019-06-05 08:41:31        3   중랑센터      2    12  1930.0  \n",
       "3  2019-06-05 08:53:10        3   중랑센터     14     6  1340.0  \n",
       "4  2019-06-10 08:33:40        3   중랑센터      2     5  1230.0  "
      ]
     },
     "execution_count": 181,
     "metadata": {},
     "output_type": "execute_result"
    }
   ],
   "source": [
    "# 데이터 부르기\n",
    "bikes_temp = {}\n",
    "\n",
    "for i in range(3):\n",
    "    bikes_temp[i] = pd.read_csv(f'../../data/public_bike/서울특별시 공공자전거 대여정보_201906_{i+1}.csv', encoding='cp949', parse_dates=['대여일시'])\n",
    "\n",
    "bikes_temp[0].head()"
   ]
  },
  {
   "cell_type": "markdown",
   "metadata": {},
   "source": [
    "# 데이터 가공"
   ]
  },
  {
   "cell_type": "code",
   "execution_count": 182,
   "metadata": {},
   "outputs": [
    {
     "data": {
      "text/html": [
       "<div>\n",
       "<style scoped>\n",
       "    .dataframe tbody tr th:only-of-type {\n",
       "        vertical-align: middle;\n",
       "    }\n",
       "\n",
       "    .dataframe tbody tr th {\n",
       "        vertical-align: top;\n",
       "    }\n",
       "\n",
       "    .dataframe thead th {\n",
       "        text-align: right;\n",
       "    }\n",
       "</style>\n",
       "<table border=\"1\" class=\"dataframe\">\n",
       "  <thead>\n",
       "    <tr style=\"text-align: right;\">\n",
       "      <th></th>\n",
       "      <th>자전거번호</th>\n",
       "      <th>대여일시</th>\n",
       "      <th>대여 대여소번호</th>\n",
       "      <th>대여 대여소명</th>\n",
       "      <th>대여거치대</th>\n",
       "      <th>반납일시</th>\n",
       "      <th>반납대여소번호</th>\n",
       "      <th>반납대여소명</th>\n",
       "      <th>반납거치대</th>\n",
       "      <th>이용시간</th>\n",
       "      <th>이용거리</th>\n",
       "    </tr>\n",
       "  </thead>\n",
       "  <tbody>\n",
       "    <tr>\n",
       "      <th>0</th>\n",
       "      <td>SPB-22040</td>\n",
       "      <td>2019-06-03 08:49:27</td>\n",
       "      <td>646</td>\n",
       "      <td>장한평역 1번출구 (국민은행앞)</td>\n",
       "      <td>1</td>\n",
       "      <td>2019-06-03 09:17:10</td>\n",
       "      <td>3</td>\n",
       "      <td>중랑센터</td>\n",
       "      <td>14</td>\n",
       "      <td>27</td>\n",
       "      <td>1330.0</td>\n",
       "    </tr>\n",
       "    <tr>\n",
       "      <th>1</th>\n",
       "      <td>SPB-07446</td>\n",
       "      <td>2019-06-03 08:33:22</td>\n",
       "      <td>526</td>\n",
       "      <td>용답토속공원 앞</td>\n",
       "      <td>8</td>\n",
       "      <td>2019-06-03 09:27:16</td>\n",
       "      <td>3</td>\n",
       "      <td>중랑센터</td>\n",
       "      <td>14</td>\n",
       "      <td>54</td>\n",
       "      <td>1180.0</td>\n",
       "    </tr>\n",
       "    <tr>\n",
       "      <th>2</th>\n",
       "      <td>SPB-20387</td>\n",
       "      <td>2019-06-05 08:27:47</td>\n",
       "      <td>646</td>\n",
       "      <td>장한평역 1번출구 (국민은행앞)</td>\n",
       "      <td>1</td>\n",
       "      <td>2019-06-05 08:41:31</td>\n",
       "      <td>3</td>\n",
       "      <td>중랑센터</td>\n",
       "      <td>2</td>\n",
       "      <td>12</td>\n",
       "      <td>1930.0</td>\n",
       "    </tr>\n",
       "    <tr>\n",
       "      <th>3</th>\n",
       "      <td>SPB-16794</td>\n",
       "      <td>2019-06-05 08:46:29</td>\n",
       "      <td>646</td>\n",
       "      <td>장한평역 1번출구 (국민은행앞)</td>\n",
       "      <td>6</td>\n",
       "      <td>2019-06-05 08:53:10</td>\n",
       "      <td>3</td>\n",
       "      <td>중랑센터</td>\n",
       "      <td>14</td>\n",
       "      <td>6</td>\n",
       "      <td>1340.0</td>\n",
       "    </tr>\n",
       "    <tr>\n",
       "      <th>4</th>\n",
       "      <td>SPB-18266</td>\n",
       "      <td>2019-06-10 08:27:26</td>\n",
       "      <td>529</td>\n",
       "      <td>장한평역 8번 출구 앞</td>\n",
       "      <td>10</td>\n",
       "      <td>2019-06-10 08:33:40</td>\n",
       "      <td>3</td>\n",
       "      <td>중랑센터</td>\n",
       "      <td>2</td>\n",
       "      <td>5</td>\n",
       "      <td>1230.0</td>\n",
       "    </tr>\n",
       "  </tbody>\n",
       "</table>\n",
       "</div>"
      ],
      "text/plain": [
       "       자전거번호                대여일시  대여 대여소번호            대여 대여소명  대여거치대  \\\n",
       "0  SPB-22040 2019-06-03 08:49:27       646  장한평역 1번출구 (국민은행앞)      1   \n",
       "1  SPB-07446 2019-06-03 08:33:22       526           용답토속공원 앞      8   \n",
       "2  SPB-20387 2019-06-05 08:27:47       646  장한평역 1번출구 (국민은행앞)      1   \n",
       "3  SPB-16794 2019-06-05 08:46:29       646  장한평역 1번출구 (국민은행앞)      6   \n",
       "4  SPB-18266 2019-06-10 08:27:26       529       장한평역 8번 출구 앞     10   \n",
       "\n",
       "                  반납일시  반납대여소번호 반납대여소명  반납거치대  이용시간    이용거리  \n",
       "0  2019-06-03 09:17:10        3   중랑센터     14    27  1330.0  \n",
       "1  2019-06-03 09:27:16        3   중랑센터     14    54  1180.0  \n",
       "2  2019-06-05 08:41:31        3   중랑센터      2    12  1930.0  \n",
       "3  2019-06-05 08:53:10        3   중랑센터     14     6  1340.0  \n",
       "4  2019-06-10 08:33:40        3   중랑센터      2     5  1230.0  "
      ]
     },
     "execution_count": 182,
     "metadata": {},
     "output_type": "execute_result"
    }
   ],
   "source": [
    "# 데이터 병합\n",
    "bikes = pd.concat(bikes_temp, axis='index', ignore_index=True)\n",
    "bikes.head()"
   ]
  },
  {
   "cell_type": "code",
   "execution_count": 183,
   "metadata": {},
   "outputs": [
    {
     "name": "stdout",
     "output_type": "stream",
     "text": [
      "<class 'pandas.core.frame.DataFrame'>\n",
      "RangeIndex: 2215632 entries, 0 to 2215631\n",
      "Data columns (total 11 columns):\n",
      " #   Column    Dtype         \n",
      "---  ------    -----         \n",
      " 0   자전거번호     object        \n",
      " 1   대여일시      datetime64[ns]\n",
      " 2   대여 대여소번호  int64         \n",
      " 3   대여 대여소명   object        \n",
      " 4   대여거치대     int64         \n",
      " 5   반납일시      object        \n",
      " 6   반납대여소번호   int64         \n",
      " 7   반납대여소명    object        \n",
      " 8   반납거치대     int64         \n",
      " 9   이용시간      int64         \n",
      " 10  이용거리      float64       \n",
      "dtypes: datetime64[ns](1), float64(1), int64(5), object(4)\n",
      "memory usage: 185.9+ MB\n"
     ]
    }
   ],
   "source": [
    "# 데이터 조회\n",
    "bikes.info()"
   ]
  },
  {
   "cell_type": "markdown",
   "metadata": {},
   "source": [
    "## 요약 통계(수치, 문자)"
   ]
  },
  {
   "cell_type": "code",
   "execution_count": 184,
   "metadata": {},
   "outputs": [
    {
     "data": {
      "text/html": [
       "<div>\n",
       "<style scoped>\n",
       "    .dataframe tbody tr th:only-of-type {\n",
       "        vertical-align: middle;\n",
       "    }\n",
       "\n",
       "    .dataframe tbody tr th {\n",
       "        vertical-align: top;\n",
       "    }\n",
       "\n",
       "    .dataframe thead th {\n",
       "        text-align: right;\n",
       "    }\n",
       "</style>\n",
       "<table border=\"1\" class=\"dataframe\">\n",
       "  <thead>\n",
       "    <tr style=\"text-align: right;\">\n",
       "      <th></th>\n",
       "      <th>대여일시</th>\n",
       "      <th>대여 대여소번호</th>\n",
       "      <th>대여거치대</th>\n",
       "      <th>반납대여소번호</th>\n",
       "      <th>반납거치대</th>\n",
       "      <th>이용시간</th>\n",
       "      <th>이용거리</th>\n",
       "    </tr>\n",
       "  </thead>\n",
       "  <tbody>\n",
       "    <tr>\n",
       "      <th>count</th>\n",
       "      <td>2215632</td>\n",
       "      <td>2.215632e+06</td>\n",
       "      <td>2.215632e+06</td>\n",
       "      <td>2.215632e+06</td>\n",
       "      <td>2.215632e+06</td>\n",
       "      <td>2.215632e+06</td>\n",
       "      <td>2.215632e+06</td>\n",
       "    </tr>\n",
       "    <tr>\n",
       "      <th>mean</th>\n",
       "      <td>2019-06-16 08:40:31.024135936</td>\n",
       "      <td>1.226154e+03</td>\n",
       "      <td>7.014750e+00</td>\n",
       "      <td>1.228354e+03</td>\n",
       "      <td>6.967391e+00</td>\n",
       "      <td>2.716998e+01</td>\n",
       "      <td>3.912916e+03</td>\n",
       "    </tr>\n",
       "    <tr>\n",
       "      <th>min</th>\n",
       "      <td>2019-06-01 00:00:02</td>\n",
       "      <td>3.000000e+00</td>\n",
       "      <td>1.000000e+00</td>\n",
       "      <td>3.000000e+00</td>\n",
       "      <td>1.000000e+00</td>\n",
       "      <td>1.000000e+00</td>\n",
       "      <td>0.000000e+00</td>\n",
       "    </tr>\n",
       "    <tr>\n",
       "      <th>25%</th>\n",
       "      <td>2019-06-08 22:04:52</td>\n",
       "      <td>5.050000e+02</td>\n",
       "      <td>3.000000e+00</td>\n",
       "      <td>5.120000e+02</td>\n",
       "      <td>3.000000e+00</td>\n",
       "      <td>8.000000e+00</td>\n",
       "      <td>1.220000e+03</td>\n",
       "    </tr>\n",
       "    <tr>\n",
       "      <th>50%</th>\n",
       "      <td>2019-06-16 15:13:49.500000</td>\n",
       "      <td>1.159000e+03</td>\n",
       "      <td>6.000000e+00</td>\n",
       "      <td>1.159000e+03</td>\n",
       "      <td>6.000000e+00</td>\n",
       "      <td>1.700000e+01</td>\n",
       "      <td>2.270000e+03</td>\n",
       "    </tr>\n",
       "    <tr>\n",
       "      <th>75%</th>\n",
       "      <td>2019-06-23 20:22:45</td>\n",
       "      <td>1.846000e+03</td>\n",
       "      <td>1.000000e+01</td>\n",
       "      <td>1.839000e+03</td>\n",
       "      <td>1.000000e+01</td>\n",
       "      <td>3.700000e+01</td>\n",
       "      <td>4.670000e+03</td>\n",
       "    </tr>\n",
       "    <tr>\n",
       "      <th>max</th>\n",
       "      <td>2019-06-30 23:59:56</td>\n",
       "      <td>9.998000e+03</td>\n",
       "      <td>4.000000e+01</td>\n",
       "      <td>9.998000e+03</td>\n",
       "      <td>4.000000e+01</td>\n",
       "      <td>3.133000e+03</td>\n",
       "      <td>2.323100e+05</td>\n",
       "    </tr>\n",
       "    <tr>\n",
       "      <th>std</th>\n",
       "      <td>NaN</td>\n",
       "      <td>8.499197e+02</td>\n",
       "      <td>5.244626e+00</td>\n",
       "      <td>8.462296e+02</td>\n",
       "      <td>5.238154e+00</td>\n",
       "      <td>2.908119e+01</td>\n",
       "      <td>5.145471e+03</td>\n",
       "    </tr>\n",
       "  </tbody>\n",
       "</table>\n",
       "</div>"
      ],
      "text/plain": [
       "                                대여일시      대여 대여소번호         대여거치대  \\\n",
       "count                        2215632  2.215632e+06  2.215632e+06   \n",
       "mean   2019-06-16 08:40:31.024135936  1.226154e+03  7.014750e+00   \n",
       "min              2019-06-01 00:00:02  3.000000e+00  1.000000e+00   \n",
       "25%              2019-06-08 22:04:52  5.050000e+02  3.000000e+00   \n",
       "50%       2019-06-16 15:13:49.500000  1.159000e+03  6.000000e+00   \n",
       "75%              2019-06-23 20:22:45  1.846000e+03  1.000000e+01   \n",
       "max              2019-06-30 23:59:56  9.998000e+03  4.000000e+01   \n",
       "std                              NaN  8.499197e+02  5.244626e+00   \n",
       "\n",
       "            반납대여소번호         반납거치대          이용시간          이용거리  \n",
       "count  2.215632e+06  2.215632e+06  2.215632e+06  2.215632e+06  \n",
       "mean   1.228354e+03  6.967391e+00  2.716998e+01  3.912916e+03  \n",
       "min    3.000000e+00  1.000000e+00  1.000000e+00  0.000000e+00  \n",
       "25%    5.120000e+02  3.000000e+00  8.000000e+00  1.220000e+03  \n",
       "50%    1.159000e+03  6.000000e+00  1.700000e+01  2.270000e+03  \n",
       "75%    1.839000e+03  1.000000e+01  3.700000e+01  4.670000e+03  \n",
       "max    9.998000e+03  4.000000e+01  3.133000e+03  2.323100e+05  \n",
       "std    8.462296e+02  5.238154e+00  2.908119e+01  5.145471e+03  "
      ]
     },
     "execution_count": 184,
     "metadata": {},
     "output_type": "execute_result"
    }
   ],
   "source": [
    "# 수치형 데이터 통계\n",
    "bikes.describe()"
   ]
  },
  {
   "cell_type": "code",
   "execution_count": 185,
   "metadata": {},
   "outputs": [
    {
     "data": {
      "text/html": [
       "<div>\n",
       "<style scoped>\n",
       "    .dataframe tbody tr th:only-of-type {\n",
       "        vertical-align: middle;\n",
       "    }\n",
       "\n",
       "    .dataframe tbody tr th {\n",
       "        vertical-align: top;\n",
       "    }\n",
       "\n",
       "    .dataframe thead th {\n",
       "        text-align: right;\n",
       "    }\n",
       "</style>\n",
       "<table border=\"1\" class=\"dataframe\">\n",
       "  <thead>\n",
       "    <tr style=\"text-align: right;\">\n",
       "      <th></th>\n",
       "      <th>자전거번호</th>\n",
       "      <th>대여일시</th>\n",
       "      <th>대여 대여소명</th>\n",
       "      <th>반납일시</th>\n",
       "      <th>반납대여소명</th>\n",
       "    </tr>\n",
       "  </thead>\n",
       "  <tbody>\n",
       "    <tr>\n",
       "      <th>count</th>\n",
       "      <td>2215632</td>\n",
       "      <td>2215632</td>\n",
       "      <td>2215632</td>\n",
       "      <td>2215632</td>\n",
       "      <td>2215632</td>\n",
       "    </tr>\n",
       "    <tr>\n",
       "      <th>unique</th>\n",
       "      <td>19029</td>\n",
       "      <td>NaN</td>\n",
       "      <td>1543</td>\n",
       "      <td>1321020</td>\n",
       "      <td>1543</td>\n",
       "    </tr>\n",
       "    <tr>\n",
       "      <th>top</th>\n",
       "      <td>SPB-17237</td>\n",
       "      <td>NaN</td>\n",
       "      <td>뚝섬유원지역 1번출구 앞</td>\n",
       "      <td>2019-06-13 08:31:30</td>\n",
       "      <td>뚝섬유원지역 1번출구 앞</td>\n",
       "    </tr>\n",
       "    <tr>\n",
       "      <th>freq</th>\n",
       "      <td>292</td>\n",
       "      <td>NaN</td>\n",
       "      <td>12617</td>\n",
       "      <td>18</td>\n",
       "      <td>14019</td>\n",
       "    </tr>\n",
       "    <tr>\n",
       "      <th>mean</th>\n",
       "      <td>NaN</td>\n",
       "      <td>2019-06-16 08:40:31.024135936</td>\n",
       "      <td>NaN</td>\n",
       "      <td>NaN</td>\n",
       "      <td>NaN</td>\n",
       "    </tr>\n",
       "    <tr>\n",
       "      <th>min</th>\n",
       "      <td>NaN</td>\n",
       "      <td>2019-06-01 00:00:02</td>\n",
       "      <td>NaN</td>\n",
       "      <td>NaN</td>\n",
       "      <td>NaN</td>\n",
       "    </tr>\n",
       "    <tr>\n",
       "      <th>25%</th>\n",
       "      <td>NaN</td>\n",
       "      <td>2019-06-08 22:04:52</td>\n",
       "      <td>NaN</td>\n",
       "      <td>NaN</td>\n",
       "      <td>NaN</td>\n",
       "    </tr>\n",
       "    <tr>\n",
       "      <th>50%</th>\n",
       "      <td>NaN</td>\n",
       "      <td>2019-06-16 15:13:49.500000</td>\n",
       "      <td>NaN</td>\n",
       "      <td>NaN</td>\n",
       "      <td>NaN</td>\n",
       "    </tr>\n",
       "    <tr>\n",
       "      <th>75%</th>\n",
       "      <td>NaN</td>\n",
       "      <td>2019-06-23 20:22:45</td>\n",
       "      <td>NaN</td>\n",
       "      <td>NaN</td>\n",
       "      <td>NaN</td>\n",
       "    </tr>\n",
       "    <tr>\n",
       "      <th>max</th>\n",
       "      <td>NaN</td>\n",
       "      <td>2019-06-30 23:59:56</td>\n",
       "      <td>NaN</td>\n",
       "      <td>NaN</td>\n",
       "      <td>NaN</td>\n",
       "    </tr>\n",
       "  </tbody>\n",
       "</table>\n",
       "</div>"
      ],
      "text/plain": [
       "            자전거번호                           대여일시        대여 대여소명  \\\n",
       "count     2215632                        2215632        2215632   \n",
       "unique      19029                            NaN           1543   \n",
       "top     SPB-17237                            NaN  뚝섬유원지역 1번출구 앞   \n",
       "freq          292                            NaN          12617   \n",
       "mean          NaN  2019-06-16 08:40:31.024135936            NaN   \n",
       "min           NaN            2019-06-01 00:00:02            NaN   \n",
       "25%           NaN            2019-06-08 22:04:52            NaN   \n",
       "50%           NaN     2019-06-16 15:13:49.500000            NaN   \n",
       "75%           NaN            2019-06-23 20:22:45            NaN   \n",
       "max           NaN            2019-06-30 23:59:56            NaN   \n",
       "\n",
       "                       반납일시         반납대여소명  \n",
       "count               2215632        2215632  \n",
       "unique              1321020           1543  \n",
       "top     2019-06-13 08:31:30  뚝섬유원지역 1번출구 앞  \n",
       "freq                     18          14019  \n",
       "mean                    NaN            NaN  \n",
       "min                     NaN            NaN  \n",
       "25%                     NaN            NaN  \n",
       "50%                     NaN            NaN  \n",
       "75%                     NaN            NaN  \n",
       "max                     NaN            NaN  "
      ]
     },
     "execution_count": 185,
     "metadata": {},
     "output_type": "execute_result"
    }
   ],
   "source": [
    "# 문자형 데이터 통계\n",
    "bikes.describe(include=['object', 'datetime64'])"
   ]
  },
  {
   "cell_type": "markdown",
   "metadata": {},
   "source": [
    "## 누락값 검사"
   ]
  },
  {
   "cell_type": "code",
   "execution_count": 186,
   "metadata": {},
   "outputs": [
    {
     "data": {
      "text/plain": [
       "자전거번호       0\n",
       "대여일시        0\n",
       "대여 대여소번호    0\n",
       "대여 대여소명     0\n",
       "대여거치대       0\n",
       "반납일시        0\n",
       "반납대여소번호     0\n",
       "반납대여소명      0\n",
       "반납거치대       0\n",
       "이용시간        0\n",
       "이용거리        0\n",
       "dtype: int64"
      ]
     },
     "execution_count": 186,
     "metadata": {},
     "output_type": "execute_result"
    }
   ],
   "source": [
    "# 누락값 검사\n",
    "bikes.isnull().sum()"
   ]
  },
  {
   "cell_type": "code",
   "execution_count": 187,
   "metadata": {},
   "outputs": [
    {
     "data": {
      "text/plain": [
       "(2215632,)"
      ]
     },
     "metadata": {},
     "output_type": "display_data"
    },
    {
     "data": {
      "text/plain": [
       "0   2019-06-03 08:49:27\n",
       "1   2019-06-03 08:33:22\n",
       "Name: 대여일시, dtype: datetime64[ns]"
      ]
     },
     "metadata": {},
     "output_type": "display_data"
    },
    {
     "data": {
      "text/plain": [
       "(2215632, 2)"
      ]
     },
     "metadata": {},
     "output_type": "display_data"
    },
    {
     "data": {
      "text/html": [
       "<div>\n",
       "<style scoped>\n",
       "    .dataframe tbody tr th:only-of-type {\n",
       "        vertical-align: middle;\n",
       "    }\n",
       "\n",
       "    .dataframe tbody tr th {\n",
       "        vertical-align: top;\n",
       "    }\n",
       "\n",
       "    .dataframe thead th {\n",
       "        text-align: right;\n",
       "    }\n",
       "</style>\n",
       "<table border=\"1\" class=\"dataframe\">\n",
       "  <thead>\n",
       "    <tr style=\"text-align: right;\">\n",
       "      <th></th>\n",
       "      <th>대여 대여소번호</th>\n",
       "      <th>대여 대여소명</th>\n",
       "    </tr>\n",
       "  </thead>\n",
       "  <tbody>\n",
       "    <tr>\n",
       "      <th>0</th>\n",
       "      <td>646</td>\n",
       "      <td>장한평역 1번출구 (국민은행앞)</td>\n",
       "    </tr>\n",
       "    <tr>\n",
       "      <th>1</th>\n",
       "      <td>526</td>\n",
       "      <td>용답토속공원 앞</td>\n",
       "    </tr>\n",
       "  </tbody>\n",
       "</table>\n",
       "</div>"
      ],
      "text/plain": [
       "   대여 대여소번호            대여 대여소명\n",
       "0       646  장한평역 1번출구 (국민은행앞)\n",
       "1       526           용답토속공원 앞"
      ]
     },
     "metadata": {},
     "output_type": "display_data"
    }
   ],
   "source": [
    "# 대여일시 정보 추출\n",
    "# bikes['대여일시'] = bikes['대여일시'].astype('datetime64[ms]') # datetime으로 안 되어 있을 시 실행\n",
    "bike_series = bikes['대여일시']\n",
    "display(bike_series.shape)\n",
    "display(bike_series.head(2))\n",
    "bike_df = bikes[['대여 대여소번호', '대여 대여소명']]\n",
    "display(bike_df.shape)\n",
    "display(bike_df.head(2))"
   ]
  },
  {
   "cell_type": "code",
   "execution_count": 188,
   "metadata": {},
   "outputs": [
    {
     "data": {
      "text/plain": [
       "0          평일\n",
       "1          평일\n",
       "2          평일\n",
       "3          평일\n",
       "4          평일\n",
       "           ..\n",
       "2215627    평일\n",
       "2215628    평일\n",
       "2215629    평일\n",
       "2215630    평일\n",
       "2215631    평일\n",
       "Name: 대여일시, Length: 2215632, dtype: object"
      ]
     },
     "execution_count": 188,
     "metadata": {},
     "output_type": "execute_result"
    }
   ],
   "source": [
    "# apply 메서드 확인\n",
    "bikes['대여일시'].dt.day_of_week.apply(lambda x: '평일' if x < 5 else '주말')"
   ]
  },
  {
   "cell_type": "markdown",
   "metadata": {},
   "source": [
    "## 요일 컬럼 추가"
   ]
  },
  {
   "cell_type": "code",
   "execution_count": 189,
   "metadata": {},
   "outputs": [
    {
     "data": {
      "text/plain": [
       "0          월\n",
       "1          월\n",
       "2          수\n",
       "3          수\n",
       "4          월\n",
       "          ..\n",
       "2215627    월\n",
       "2215628    화\n",
       "2215629    수\n",
       "2215630    목\n",
       "2215631    금\n",
       "Name: 요일, Length: 2215632, dtype: object"
      ]
     },
     "execution_count": 189,
     "metadata": {},
     "output_type": "execute_result"
    }
   ],
   "source": [
    "요일 = ['월','화','수','목','금','토','일']\n",
    "bikes['요일'] = bikes['대여일시'].dt.day_of_week.apply(lambda x : 요일[x])\n",
    "bikes['요일']"
   ]
  },
  {
   "cell_type": "code",
   "execution_count": 190,
   "metadata": {},
   "outputs": [
    {
     "data": {
      "text/html": [
       "<div>\n",
       "<style scoped>\n",
       "    .dataframe tbody tr th:only-of-type {\n",
       "        vertical-align: middle;\n",
       "    }\n",
       "\n",
       "    .dataframe tbody tr th {\n",
       "        vertical-align: top;\n",
       "    }\n",
       "\n",
       "    .dataframe thead th {\n",
       "        text-align: right;\n",
       "    }\n",
       "</style>\n",
       "<table border=\"1\" class=\"dataframe\">\n",
       "  <thead>\n",
       "    <tr style=\"text-align: right;\">\n",
       "      <th></th>\n",
       "      <th>자전거번호</th>\n",
       "      <th>대여일시</th>\n",
       "      <th>대여 대여소번호</th>\n",
       "      <th>대여 대여소명</th>\n",
       "      <th>대여거치대</th>\n",
       "      <th>반납일시</th>\n",
       "      <th>반납대여소번호</th>\n",
       "      <th>반납대여소명</th>\n",
       "      <th>반납거치대</th>\n",
       "      <th>이용시간</th>\n",
       "      <th>이용거리</th>\n",
       "      <th>요일</th>\n",
       "    </tr>\n",
       "  </thead>\n",
       "  <tbody>\n",
       "    <tr>\n",
       "      <th>0</th>\n",
       "      <td>SPB-22040</td>\n",
       "      <td>2019-06-03 08:49:27</td>\n",
       "      <td>646</td>\n",
       "      <td>장한평역 1번출구 (국민은행앞)</td>\n",
       "      <td>1</td>\n",
       "      <td>2019-06-03 09:17:10</td>\n",
       "      <td>3</td>\n",
       "      <td>중랑센터</td>\n",
       "      <td>14</td>\n",
       "      <td>27</td>\n",
       "      <td>1330.0</td>\n",
       "      <td>월</td>\n",
       "    </tr>\n",
       "    <tr>\n",
       "      <th>1</th>\n",
       "      <td>SPB-07446</td>\n",
       "      <td>2019-06-03 08:33:22</td>\n",
       "      <td>526</td>\n",
       "      <td>용답토속공원 앞</td>\n",
       "      <td>8</td>\n",
       "      <td>2019-06-03 09:27:16</td>\n",
       "      <td>3</td>\n",
       "      <td>중랑센터</td>\n",
       "      <td>14</td>\n",
       "      <td>54</td>\n",
       "      <td>1180.0</td>\n",
       "      <td>월</td>\n",
       "    </tr>\n",
       "    <tr>\n",
       "      <th>2</th>\n",
       "      <td>SPB-20387</td>\n",
       "      <td>2019-06-05 08:27:47</td>\n",
       "      <td>646</td>\n",
       "      <td>장한평역 1번출구 (국민은행앞)</td>\n",
       "      <td>1</td>\n",
       "      <td>2019-06-05 08:41:31</td>\n",
       "      <td>3</td>\n",
       "      <td>중랑센터</td>\n",
       "      <td>2</td>\n",
       "      <td>12</td>\n",
       "      <td>1930.0</td>\n",
       "      <td>수</td>\n",
       "    </tr>\n",
       "    <tr>\n",
       "      <th>3</th>\n",
       "      <td>SPB-16794</td>\n",
       "      <td>2019-06-05 08:46:29</td>\n",
       "      <td>646</td>\n",
       "      <td>장한평역 1번출구 (국민은행앞)</td>\n",
       "      <td>6</td>\n",
       "      <td>2019-06-05 08:53:10</td>\n",
       "      <td>3</td>\n",
       "      <td>중랑센터</td>\n",
       "      <td>14</td>\n",
       "      <td>6</td>\n",
       "      <td>1340.0</td>\n",
       "      <td>수</td>\n",
       "    </tr>\n",
       "    <tr>\n",
       "      <th>4</th>\n",
       "      <td>SPB-18266</td>\n",
       "      <td>2019-06-10 08:27:26</td>\n",
       "      <td>529</td>\n",
       "      <td>장한평역 8번 출구 앞</td>\n",
       "      <td>10</td>\n",
       "      <td>2019-06-10 08:33:40</td>\n",
       "      <td>3</td>\n",
       "      <td>중랑센터</td>\n",
       "      <td>2</td>\n",
       "      <td>5</td>\n",
       "      <td>1230.0</td>\n",
       "      <td>월</td>\n",
       "    </tr>\n",
       "  </tbody>\n",
       "</table>\n",
       "</div>"
      ],
      "text/plain": [
       "       자전거번호                대여일시  대여 대여소번호            대여 대여소명  대여거치대  \\\n",
       "0  SPB-22040 2019-06-03 08:49:27       646  장한평역 1번출구 (국민은행앞)      1   \n",
       "1  SPB-07446 2019-06-03 08:33:22       526           용답토속공원 앞      8   \n",
       "2  SPB-20387 2019-06-05 08:27:47       646  장한평역 1번출구 (국민은행앞)      1   \n",
       "3  SPB-16794 2019-06-05 08:46:29       646  장한평역 1번출구 (국민은행앞)      6   \n",
       "4  SPB-18266 2019-06-10 08:27:26       529       장한평역 8번 출구 앞     10   \n",
       "\n",
       "                  반납일시  반납대여소번호 반납대여소명  반납거치대  이용시간    이용거리 요일  \n",
       "0  2019-06-03 09:17:10        3   중랑센터     14    27  1330.0  월  \n",
       "1  2019-06-03 09:27:16        3   중랑센터     14    54  1180.0  월  \n",
       "2  2019-06-05 08:41:31        3   중랑센터      2    12  1930.0  수  \n",
       "3  2019-06-05 08:53:10        3   중랑센터     14     6  1340.0  수  \n",
       "4  2019-06-10 08:33:40        3   중랑센터      2     5  1230.0  월  "
      ]
     },
     "execution_count": 190,
     "metadata": {},
     "output_type": "execute_result"
    }
   ],
   "source": [
    "bikes.head()"
   ]
  },
  {
   "cell_type": "markdown",
   "metadata": {},
   "source": [
    "# 데이터 불러오기(대여소정보)"
   ]
  },
  {
   "cell_type": "code",
   "execution_count": 191,
   "metadata": {},
   "outputs": [
    {
     "data": {
      "text/plain": [
       "(2749, 14)"
      ]
     },
     "metadata": {},
     "output_type": "display_data"
    },
    {
     "data": {
      "text/html": [
       "<div>\n",
       "<style scoped>\n",
       "    .dataframe tbody tr th:only-of-type {\n",
       "        vertical-align: middle;\n",
       "    }\n",
       "\n",
       "    .dataframe tbody tr th {\n",
       "        vertical-align: top;\n",
       "    }\n",
       "\n",
       "    .dataframe thead th {\n",
       "        text-align: right;\n",
       "    }\n",
       "</style>\n",
       "<table border=\"1\" class=\"dataframe\">\n",
       "  <thead>\n",
       "    <tr style=\"text-align: right;\">\n",
       "      <th></th>\n",
       "      <th>대여소 번호</th>\n",
       "      <th>보관소(대여소)명</th>\n",
       "      <th>자치구</th>\n",
       "      <th>소재지(위치)</th>\n",
       "      <th>위도</th>\n",
       "      <th>경도</th>\n",
       "      <th>설치시기</th>\n",
       "      <th>거치대수</th>\n",
       "      <th>설치형태</th>\n",
       "      <th>운영방식</th>\n",
       "      <th>LCD</th>\n",
       "      <th>QR</th>\n",
       "      <th>상세주소</th>\n",
       "      <th>거치대수.1</th>\n",
       "    </tr>\n",
       "  </thead>\n",
       "  <tbody>\n",
       "    <tr>\n",
       "      <th>0</th>\n",
       "      <td>301</td>\n",
       "      <td>경복궁역 7번출구 앞</td>\n",
       "      <td>종로구</td>\n",
       "      <td>서울특별시 종로구 사직로 지하130 경복궁역 7번출구 앞</td>\n",
       "      <td>37.575794</td>\n",
       "      <td>126.971451</td>\n",
       "      <td>2015-10-07</td>\n",
       "      <td>20.0</td>\n",
       "      <td>20.0</td>\n",
       "      <td>QR</td>\n",
       "      <td>NaN</td>\n",
       "      <td>NaN</td>\n",
       "      <td>NaN</td>\n",
       "      <td>NaN</td>\n",
       "    </tr>\n",
       "    <tr>\n",
       "      <th>1</th>\n",
       "      <td>302</td>\n",
       "      <td>경복궁역 4번출구 뒤</td>\n",
       "      <td>종로구</td>\n",
       "      <td>서울특별시 종로구 사직로 지하130 경복궁역 4번출구 뒤</td>\n",
       "      <td>37.575947</td>\n",
       "      <td>126.974060</td>\n",
       "      <td>2015-10-07</td>\n",
       "      <td>12.0</td>\n",
       "      <td>12.0</td>\n",
       "      <td>QR</td>\n",
       "      <td>NaN</td>\n",
       "      <td>NaN</td>\n",
       "      <td>NaN</td>\n",
       "      <td>NaN</td>\n",
       "    </tr>\n",
       "  </tbody>\n",
       "</table>\n",
       "</div>"
      ],
      "text/plain": [
       "   대여소 번호     보관소(대여소)명  자치구                          소재지(위치)         위도  \\\n",
       "0     301   경복궁역 7번출구 앞  종로구  서울특별시 종로구 사직로 지하130 경복궁역 7번출구 앞  37.575794   \n",
       "1     302   경복궁역 4번출구 뒤  종로구  서울특별시 종로구 사직로 지하130 경복궁역 4번출구 뒤  37.575947   \n",
       "\n",
       "           경도        설치시기  거치대수  설치형태 운영방식  LCD  QR  상세주소  거치대수.1  \n",
       "0  126.971451  2015-10-07  20.0  20.0   QR  NaN NaN   NaN     NaN  \n",
       "1  126.974060  2015-10-07  12.0  12.0   QR  NaN NaN   NaN     NaN  "
      ]
     },
     "metadata": {},
     "output_type": "display_data"
    }
   ],
   "source": [
    "bike_shop = pd.read_csv('../../data/public_bike/공공자전거 대여소 정보(23.06월 기준).csv', encoding='euc-kr')\n",
    "display(bike_shop.shape)\n",
    "display(bike_shop.head(2))"
   ]
  },
  {
   "cell_type": "markdown",
   "metadata": {},
   "source": [
    "# 데이터 가공(대여이력 + 대여소정보)"
   ]
  },
  {
   "cell_type": "code",
   "execution_count": 192,
   "metadata": {},
   "outputs": [
    {
     "data": {
      "text/html": [
       "<div>\n",
       "<style scoped>\n",
       "    .dataframe tbody tr th:only-of-type {\n",
       "        vertical-align: middle;\n",
       "    }\n",
       "\n",
       "    .dataframe tbody tr th {\n",
       "        vertical-align: top;\n",
       "    }\n",
       "\n",
       "    .dataframe thead th {\n",
       "        text-align: right;\n",
       "    }\n",
       "</style>\n",
       "<table border=\"1\" class=\"dataframe\">\n",
       "  <thead>\n",
       "    <tr style=\"text-align: right;\">\n",
       "      <th></th>\n",
       "      <th>자치구</th>\n",
       "      <th>대여소 번호</th>\n",
       "      <th>보관소(대여소)명</th>\n",
       "      <th>위도</th>\n",
       "      <th>경도</th>\n",
       "    </tr>\n",
       "  </thead>\n",
       "  <tbody>\n",
       "    <tr>\n",
       "      <th>0</th>\n",
       "      <td>종로구</td>\n",
       "      <td>301</td>\n",
       "      <td>경복궁역 7번출구 앞</td>\n",
       "      <td>37.575794</td>\n",
       "      <td>126.971451</td>\n",
       "    </tr>\n",
       "    <tr>\n",
       "      <th>1</th>\n",
       "      <td>종로구</td>\n",
       "      <td>302</td>\n",
       "      <td>경복궁역 4번출구 뒤</td>\n",
       "      <td>37.575947</td>\n",
       "      <td>126.974060</td>\n",
       "    </tr>\n",
       "  </tbody>\n",
       "</table>\n",
       "</div>"
      ],
      "text/plain": [
       "   자치구  대여소 번호     보관소(대여소)명         위도          경도\n",
       "0  종로구     301   경복궁역 7번출구 앞  37.575794  126.971451\n",
       "1  종로구     302   경복궁역 4번출구 뒤  37.575947  126.974060"
      ]
     },
     "execution_count": 192,
     "metadata": {},
     "output_type": "execute_result"
    }
   ],
   "source": [
    "bikes_gu = bike_shop[['자치구', '대여소 번호', '보관소(대여소)명', '위도', '경도']]\n",
    "bikes_gu.head(2)"
   ]
  },
  {
   "cell_type": "code",
   "execution_count": 194,
   "metadata": {},
   "outputs": [
    {
     "data": {
      "text/html": [
       "<div>\n",
       "<style scoped>\n",
       "    .dataframe tbody tr th:only-of-type {\n",
       "        vertical-align: middle;\n",
       "    }\n",
       "\n",
       "    .dataframe tbody tr th {\n",
       "        vertical-align: top;\n",
       "    }\n",
       "\n",
       "    .dataframe thead th {\n",
       "        text-align: right;\n",
       "    }\n",
       "</style>\n",
       "<table border=\"1\" class=\"dataframe\">\n",
       "  <thead>\n",
       "    <tr style=\"text-align: right;\">\n",
       "      <th></th>\n",
       "      <th>자치구</th>\n",
       "      <th>대여소번호</th>\n",
       "      <th>대여소명</th>\n",
       "      <th>위도</th>\n",
       "      <th>경도</th>\n",
       "    </tr>\n",
       "  </thead>\n",
       "  <tbody>\n",
       "    <tr>\n",
       "      <th>0</th>\n",
       "      <td>종로구</td>\n",
       "      <td>301</td>\n",
       "      <td>경복궁역 7번출구 앞</td>\n",
       "      <td>37.575794</td>\n",
       "      <td>126.971451</td>\n",
       "    </tr>\n",
       "    <tr>\n",
       "      <th>1</th>\n",
       "      <td>종로구</td>\n",
       "      <td>302</td>\n",
       "      <td>경복궁역 4번출구 뒤</td>\n",
       "      <td>37.575947</td>\n",
       "      <td>126.974060</td>\n",
       "    </tr>\n",
       "  </tbody>\n",
       "</table>\n",
       "</div>"
      ],
      "text/plain": [
       "   자치구  대여소번호          대여소명         위도          경도\n",
       "0  종로구    301   경복궁역 7번출구 앞  37.575794  126.971451\n",
       "1  종로구    302   경복궁역 4번출구 뒤  37.575947  126.974060"
      ]
     },
     "execution_count": 194,
     "metadata": {},
     "output_type": "execute_result"
    }
   ],
   "source": [
    "bikes_gu = bikes_gu.rename(columns={'보관소(대여소)명':'대여소명', '대여소 번호' : '대여소번호'})\n",
    "bikes_gu.head(2)"
   ]
  },
  {
   "cell_type": "code",
   "execution_count": 195,
   "metadata": {},
   "outputs": [
    {
     "data": {
      "text/html": [
       "<div>\n",
       "<style scoped>\n",
       "    .dataframe tbody tr th:only-of-type {\n",
       "        vertical-align: middle;\n",
       "    }\n",
       "\n",
       "    .dataframe tbody tr th {\n",
       "        vertical-align: top;\n",
       "    }\n",
       "\n",
       "    .dataframe thead th {\n",
       "        text-align: right;\n",
       "    }\n",
       "</style>\n",
       "<table border=\"1\" class=\"dataframe\">\n",
       "  <thead>\n",
       "    <tr style=\"text-align: right;\">\n",
       "      <th></th>\n",
       "      <th>자전거번호</th>\n",
       "      <th>대여일시</th>\n",
       "      <th>대여 대여소번호</th>\n",
       "      <th>대여 대여소명</th>\n",
       "      <th>대여거치대</th>\n",
       "      <th>반납일시</th>\n",
       "      <th>반납대여소번호</th>\n",
       "      <th>반납대여소명</th>\n",
       "      <th>반납거치대</th>\n",
       "      <th>이용시간</th>\n",
       "      <th>이용거리</th>\n",
       "      <th>요일</th>\n",
       "    </tr>\n",
       "  </thead>\n",
       "  <tbody>\n",
       "    <tr>\n",
       "      <th>0</th>\n",
       "      <td>SPB-22040</td>\n",
       "      <td>2019-06-03 08:49:27</td>\n",
       "      <td>646</td>\n",
       "      <td>장한평역 1번출구 (국민은행앞)</td>\n",
       "      <td>1</td>\n",
       "      <td>2019-06-03 09:17:10</td>\n",
       "      <td>3</td>\n",
       "      <td>중랑센터</td>\n",
       "      <td>14</td>\n",
       "      <td>27</td>\n",
       "      <td>1330.0</td>\n",
       "      <td>월</td>\n",
       "    </tr>\n",
       "    <tr>\n",
       "      <th>1</th>\n",
       "      <td>SPB-07446</td>\n",
       "      <td>2019-06-03 08:33:22</td>\n",
       "      <td>526</td>\n",
       "      <td>용답토속공원 앞</td>\n",
       "      <td>8</td>\n",
       "      <td>2019-06-03 09:27:16</td>\n",
       "      <td>3</td>\n",
       "      <td>중랑센터</td>\n",
       "      <td>14</td>\n",
       "      <td>54</td>\n",
       "      <td>1180.0</td>\n",
       "      <td>월</td>\n",
       "    </tr>\n",
       "  </tbody>\n",
       "</table>\n",
       "</div>"
      ],
      "text/plain": [
       "       자전거번호                대여일시  대여 대여소번호            대여 대여소명  대여거치대  \\\n",
       "0  SPB-22040 2019-06-03 08:49:27       646  장한평역 1번출구 (국민은행앞)      1   \n",
       "1  SPB-07446 2019-06-03 08:33:22       526           용답토속공원 앞      8   \n",
       "\n",
       "                  반납일시  반납대여소번호 반납대여소명  반납거치대  이용시간    이용거리 요일  \n",
       "0  2019-06-03 09:17:10        3   중랑센터     14    27  1330.0  월  \n",
       "1  2019-06-03 09:27:16        3   중랑센터     14    54  1180.0  월  "
      ]
     },
     "execution_count": 195,
     "metadata": {},
     "output_type": "execute_result"
    }
   ],
   "source": [
    "bikes.head(2)"
   ]
  },
  {
   "cell_type": "code",
   "execution_count": 196,
   "metadata": {},
   "outputs": [
    {
     "data": {
      "text/html": [
       "<div>\n",
       "<style scoped>\n",
       "    .dataframe tbody tr th:only-of-type {\n",
       "        vertical-align: middle;\n",
       "    }\n",
       "\n",
       "    .dataframe tbody tr th {\n",
       "        vertical-align: top;\n",
       "    }\n",
       "\n",
       "    .dataframe thead th {\n",
       "        text-align: right;\n",
       "    }\n",
       "</style>\n",
       "<table border=\"1\" class=\"dataframe\">\n",
       "  <thead>\n",
       "    <tr style=\"text-align: right;\">\n",
       "      <th></th>\n",
       "      <th>자전거번호</th>\n",
       "      <th>대여일시</th>\n",
       "      <th>대여 대여소번호</th>\n",
       "      <th>대여 대여소명</th>\n",
       "      <th>대여거치대</th>\n",
       "      <th>반납일시</th>\n",
       "      <th>반납대여소번호</th>\n",
       "      <th>반납대여소명</th>\n",
       "      <th>반납거치대</th>\n",
       "      <th>이용시간</th>\n",
       "      <th>이용거리</th>\n",
       "      <th>요일</th>\n",
       "      <th>자치구</th>\n",
       "      <th>대여소번호</th>\n",
       "      <th>대여소명</th>\n",
       "      <th>위도</th>\n",
       "      <th>경도</th>\n",
       "    </tr>\n",
       "  </thead>\n",
       "  <tbody>\n",
       "    <tr>\n",
       "      <th>0</th>\n",
       "      <td>SPB-22040</td>\n",
       "      <td>2019-06-03 08:49:27</td>\n",
       "      <td>646</td>\n",
       "      <td>장한평역 1번출구 (국민은행앞)</td>\n",
       "      <td>1</td>\n",
       "      <td>2019-06-03 09:17:10</td>\n",
       "      <td>3</td>\n",
       "      <td>중랑센터</td>\n",
       "      <td>14</td>\n",
       "      <td>27</td>\n",
       "      <td>1330.0</td>\n",
       "      <td>월</td>\n",
       "      <td>동대문구</td>\n",
       "      <td>646</td>\n",
       "      <td>장한평역 1번출구</td>\n",
       "      <td>37.561966</td>\n",
       "      <td>127.064506</td>\n",
       "    </tr>\n",
       "    <tr>\n",
       "      <th>1</th>\n",
       "      <td>SPB-07446</td>\n",
       "      <td>2019-06-03 08:33:22</td>\n",
       "      <td>526</td>\n",
       "      <td>용답토속공원 앞</td>\n",
       "      <td>8</td>\n",
       "      <td>2019-06-03 09:27:16</td>\n",
       "      <td>3</td>\n",
       "      <td>중랑센터</td>\n",
       "      <td>14</td>\n",
       "      <td>54</td>\n",
       "      <td>1180.0</td>\n",
       "      <td>월</td>\n",
       "      <td>성동구</td>\n",
       "      <td>526</td>\n",
       "      <td>용답토속공원 앞</td>\n",
       "      <td>37.563511</td>\n",
       "      <td>127.056725</td>\n",
       "    </tr>\n",
       "  </tbody>\n",
       "</table>\n",
       "</div>"
      ],
      "text/plain": [
       "       자전거번호                대여일시  대여 대여소번호            대여 대여소명  대여거치대  \\\n",
       "0  SPB-22040 2019-06-03 08:49:27       646  장한평역 1번출구 (국민은행앞)      1   \n",
       "1  SPB-07446 2019-06-03 08:33:22       526           용답토속공원 앞      8   \n",
       "\n",
       "                  반납일시  반납대여소번호 반납대여소명  반납거치대  이용시간    이용거리 요일   자치구  대여소번호  \\\n",
       "0  2019-06-03 09:17:10        3   중랑센터     14    27  1330.0  월  동대문구    646   \n",
       "1  2019-06-03 09:27:16        3   중랑센터     14    54  1180.0  월   성동구    526   \n",
       "\n",
       "         대여소명         위도          경도  \n",
       "0   장한평역 1번출구  37.561966  127.064506  \n",
       "1    용답토속공원 앞  37.563511  127.056725  "
      ]
     },
     "execution_count": 196,
     "metadata": {},
     "output_type": "execute_result"
    }
   ],
   "source": [
    "# 대여소번호, 대여소명을 기준으로 병합\n",
    "# pd.merge( df1, df2, left_on=‘df1_컬럼명’, right_on=‘df2_컬럼명’ )\n",
    "# left_on : df1에 있는 컬럼명\n",
    "# right_on : df2에 있는 컬럼명\n",
    "bikes = pd.merge(bikes, bikes_gu, left_on='대여 대여소번호', right_on='대여소번호')\n",
    "bikes.head(2)"
   ]
  },
  {
   "cell_type": "markdown",
   "metadata": {},
   "source": [
    "## 중복되는 컬럼 삭제"
   ]
  },
  {
   "cell_type": "code",
   "execution_count": 197,
   "metadata": {},
   "outputs": [
    {
     "data": {
      "text/html": [
       "<div>\n",
       "<style scoped>\n",
       "    .dataframe tbody tr th:only-of-type {\n",
       "        vertical-align: middle;\n",
       "    }\n",
       "\n",
       "    .dataframe tbody tr th {\n",
       "        vertical-align: top;\n",
       "    }\n",
       "\n",
       "    .dataframe thead th {\n",
       "        text-align: right;\n",
       "    }\n",
       "</style>\n",
       "<table border=\"1\" class=\"dataframe\">\n",
       "  <thead>\n",
       "    <tr style=\"text-align: right;\">\n",
       "      <th></th>\n",
       "      <th>자전거번호</th>\n",
       "      <th>대여일시</th>\n",
       "      <th>대여 대여소번호</th>\n",
       "      <th>대여 대여소명</th>\n",
       "      <th>대여거치대</th>\n",
       "      <th>반납일시</th>\n",
       "      <th>반납대여소번호</th>\n",
       "      <th>반납대여소명</th>\n",
       "      <th>반납거치대</th>\n",
       "      <th>이용시간</th>\n",
       "      <th>이용거리</th>\n",
       "      <th>요일</th>\n",
       "      <th>자치구</th>\n",
       "      <th>위도</th>\n",
       "      <th>경도</th>\n",
       "    </tr>\n",
       "  </thead>\n",
       "  <tbody>\n",
       "    <tr>\n",
       "      <th>0</th>\n",
       "      <td>SPB-22040</td>\n",
       "      <td>2019-06-03 08:49:27</td>\n",
       "      <td>646</td>\n",
       "      <td>장한평역 1번출구 (국민은행앞)</td>\n",
       "      <td>1</td>\n",
       "      <td>2019-06-03 09:17:10</td>\n",
       "      <td>3</td>\n",
       "      <td>중랑센터</td>\n",
       "      <td>14</td>\n",
       "      <td>27</td>\n",
       "      <td>1330.0</td>\n",
       "      <td>월</td>\n",
       "      <td>동대문구</td>\n",
       "      <td>37.561966</td>\n",
       "      <td>127.064506</td>\n",
       "    </tr>\n",
       "    <tr>\n",
       "      <th>1</th>\n",
       "      <td>SPB-07446</td>\n",
       "      <td>2019-06-03 08:33:22</td>\n",
       "      <td>526</td>\n",
       "      <td>용답토속공원 앞</td>\n",
       "      <td>8</td>\n",
       "      <td>2019-06-03 09:27:16</td>\n",
       "      <td>3</td>\n",
       "      <td>중랑센터</td>\n",
       "      <td>14</td>\n",
       "      <td>54</td>\n",
       "      <td>1180.0</td>\n",
       "      <td>월</td>\n",
       "      <td>성동구</td>\n",
       "      <td>37.563511</td>\n",
       "      <td>127.056725</td>\n",
       "    </tr>\n",
       "  </tbody>\n",
       "</table>\n",
       "</div>"
      ],
      "text/plain": [
       "       자전거번호                대여일시  대여 대여소번호            대여 대여소명  대여거치대  \\\n",
       "0  SPB-22040 2019-06-03 08:49:27       646  장한평역 1번출구 (국민은행앞)      1   \n",
       "1  SPB-07446 2019-06-03 08:33:22       526           용답토속공원 앞      8   \n",
       "\n",
       "                  반납일시  반납대여소번호 반납대여소명  반납거치대  이용시간    이용거리 요일   자치구  \\\n",
       "0  2019-06-03 09:17:10        3   중랑센터     14    27  1330.0  월  동대문구   \n",
       "1  2019-06-03 09:27:16        3   중랑센터     14    54  1180.0  월   성동구   \n",
       "\n",
       "          위도          경도  \n",
       "0  37.561966  127.064506  \n",
       "1  37.563511  127.056725  "
      ]
     },
     "execution_count": 197,
     "metadata": {},
     "output_type": "execute_result"
    }
   ],
   "source": [
    "# 중복되는 컬럼 삭제\n",
    "bikes = bikes.drop(['대여소번호', '대여소명'], axis='columns')\n",
    "bikes.head(2)"
   ]
  },
  {
   "cell_type": "markdown",
   "metadata": {},
   "source": [
    "## 컬럼명 변경"
   ]
  },
  {
   "cell_type": "code",
   "execution_count": 199,
   "metadata": {},
   "outputs": [
    {
     "data": {
      "text/html": [
       "<div>\n",
       "<style scoped>\n",
       "    .dataframe tbody tr th:only-of-type {\n",
       "        vertical-align: middle;\n",
       "    }\n",
       "\n",
       "    .dataframe tbody tr th {\n",
       "        vertical-align: top;\n",
       "    }\n",
       "\n",
       "    .dataframe thead th {\n",
       "        text-align: right;\n",
       "    }\n",
       "</style>\n",
       "<table border=\"1\" class=\"dataframe\">\n",
       "  <thead>\n",
       "    <tr style=\"text-align: right;\">\n",
       "      <th></th>\n",
       "      <th>자전거번호</th>\n",
       "      <th>대여일시</th>\n",
       "      <th>대여 대여소번호</th>\n",
       "      <th>대여 대여소명</th>\n",
       "      <th>대여거치대</th>\n",
       "      <th>반납일시</th>\n",
       "      <th>반납대여소번호</th>\n",
       "      <th>반납대여소명</th>\n",
       "      <th>반납거치대</th>\n",
       "      <th>이용시간</th>\n",
       "      <th>이용거리</th>\n",
       "      <th>요일</th>\n",
       "      <th>대여구</th>\n",
       "      <th>대여점위도</th>\n",
       "      <th>대여점경도</th>\n",
       "    </tr>\n",
       "  </thead>\n",
       "  <tbody>\n",
       "    <tr>\n",
       "      <th>0</th>\n",
       "      <td>SPB-22040</td>\n",
       "      <td>2019-06-03 08:49:27</td>\n",
       "      <td>646</td>\n",
       "      <td>장한평역 1번출구 (국민은행앞)</td>\n",
       "      <td>1</td>\n",
       "      <td>2019-06-03 09:17:10</td>\n",
       "      <td>3</td>\n",
       "      <td>중랑센터</td>\n",
       "      <td>14</td>\n",
       "      <td>27</td>\n",
       "      <td>1330.0</td>\n",
       "      <td>월</td>\n",
       "      <td>동대문구</td>\n",
       "      <td>37.561966</td>\n",
       "      <td>127.064506</td>\n",
       "    </tr>\n",
       "    <tr>\n",
       "      <th>1</th>\n",
       "      <td>SPB-07446</td>\n",
       "      <td>2019-06-03 08:33:22</td>\n",
       "      <td>526</td>\n",
       "      <td>용답토속공원 앞</td>\n",
       "      <td>8</td>\n",
       "      <td>2019-06-03 09:27:16</td>\n",
       "      <td>3</td>\n",
       "      <td>중랑센터</td>\n",
       "      <td>14</td>\n",
       "      <td>54</td>\n",
       "      <td>1180.0</td>\n",
       "      <td>월</td>\n",
       "      <td>성동구</td>\n",
       "      <td>37.563511</td>\n",
       "      <td>127.056725</td>\n",
       "    </tr>\n",
       "  </tbody>\n",
       "</table>\n",
       "</div>"
      ],
      "text/plain": [
       "       자전거번호                대여일시  대여 대여소번호            대여 대여소명  대여거치대  \\\n",
       "0  SPB-22040 2019-06-03 08:49:27       646  장한평역 1번출구 (국민은행앞)      1   \n",
       "1  SPB-07446 2019-06-03 08:33:22       526           용답토속공원 앞      8   \n",
       "\n",
       "                  반납일시  반납대여소번호 반납대여소명  반납거치대  이용시간    이용거리 요일   대여구  \\\n",
       "0  2019-06-03 09:17:10        3   중랑센터     14    27  1330.0  월  동대문구   \n",
       "1  2019-06-03 09:27:16        3   중랑센터     14    54  1180.0  월   성동구   \n",
       "\n",
       "       대여점위도       대여점경도  \n",
       "0  37.561966  127.064506  \n",
       "1  37.563511  127.056725  "
      ]
     },
     "execution_count": 199,
     "metadata": {},
     "output_type": "execute_result"
    }
   ],
   "source": [
    "# 컬럼명 변경\n",
    "bikes = bikes.rename(columns={'자치구':'대여구',\n",
    "                            '위도' : '대여점위도',\n",
    "                            '경도' : '대여점경도'})\n",
    "bikes.head(2)"
   ]
  },
  {
   "cell_type": "markdown",
   "metadata": {},
   "source": [
    "# 데이터 분석"
   ]
  },
  {
   "cell_type": "markdown",
   "metadata": {},
   "source": [
    "## 시간 개념에 따른 시각화"
   ]
  },
  {
   "cell_type": "code",
   "execution_count": null,
   "metadata": {},
   "outputs": [],
   "source": [
    "# seaborn으로 시각화\n",
    "# sns.countplot( data=데이터프레임, x=‘``집계할 컬럼명’, hue=‘집계할 컬럼명’ )\n",
    "sns.countplot(data=bikes, x='요일', order=['월','화','수','목','금','토','일'], hue='요일')"
   ]
  },
  {
   "cell_type": "code",
   "execution_count": null,
   "metadata": {},
   "outputs": [],
   "source": [
    "# 대여시간대, 일자 컬럼 생성\n",
    "bikes['대여시간대'] = bikes['대여일시'].dt.hour\n",
    "bikes['일자'] = bikes['대여일시'].dt.day\n",
    "bikes.head(2)"
   ]
  },
  {
   "cell_type": "code",
   "execution_count": null,
   "metadata": {},
   "outputs": [],
   "source": [
    "# sns.countplot( data=데이터프레임, x=‘``집계할 컬럼명’, hue=‘집계할 컬럼명’ )\n",
    "plt.figure(figsize=(15,4))\n",
    "sns.countplot(data=bikes, x='일자', hue='일자')\n",
    "plt.show()\n",
    "plt.figure(figsize=(15,4))\n",
    "sns.countplot(data=bikes, x='대여시간대', hue='대여시간대')\n",
    "plt.show()"
   ]
  },
  {
   "cell_type": "markdown",
   "metadata": {},
   "source": [
    "### 대여시간대 × 요일 따릉이 이용건수"
   ]
  },
  {
   "cell_type": "code",
   "execution_count": null,
   "metadata": {},
   "outputs": [],
   "source": [
    "# 피봇테이블 생성\n",
    "bikes.pivot_table(index='대여시간대',\n",
    "                columns='요일', \n",
    "                values='자전거번호', \n",
    "                aggfunc='count')"
   ]
  },
  {
   "cell_type": "code",
   "execution_count": null,
   "metadata": {},
   "outputs": [],
   "source": [
    "# 요일과 시간대별 이용건수 피봇테이블\n",
    "hourly_dayofweek_ride = bikes.pivot_table(\n",
    "                        index='대여시간대',\n",
    "                        columns='요일',\n",
    "                        values='자전거번호',\n",
    "                        aggfunc='count')\n",
    "hourly_dayofweek_ride"
   ]
  },
  {
   "cell_type": "markdown",
   "metadata": {},
   "source": [
    "#### 대여시간대 × 요일 이용건수 시각화"
   ]
  },
  {
   "cell_type": "code",
   "execution_count": null,
   "metadata": {},
   "outputs": [],
   "source": [
    "# 꺽은선 그래프\n",
    "hourly_dayofweek_ride.plot(kind='line',title='대여시간대 × 요일 이용건수',figsize=(15,4))"
   ]
  },
  {
   "cell_type": "code",
   "execution_count": null,
   "metadata": {},
   "outputs": [],
   "source": [
    "# 막대 그래프\n",
    "hourly_dayofweek_ride.plot(kind='bar',title='대여시간대 × 요일 이용건수',figsize=(15,4),rot=0) # rot : x축 인덱스 글자 회전"
   ]
  },
  {
   "cell_type": "code",
   "execution_count": null,
   "metadata": {},
   "outputs": [],
   "source": [
    "# seaborn countplot과 pivot table의 비교\n",
    "plt.figure(figsize=(15,4))\n",
    "sns.countplot(data=bikes, x='대여시간대', hue='요일')"
   ]
  },
  {
   "cell_type": "markdown",
   "metadata": {},
   "source": [
    "#### 히트맵"
   ]
  },
  {
   "cell_type": "code",
   "execution_count": null,
   "metadata": {},
   "outputs": [],
   "source": [
    "# 2차원 자료 시각화\n",
    "# annot=True : 색깔을 나타내는 칸에 해당 집계 수량도 표시\n",
    "# fmt=‘d’ : 포맷을 정수로 나타낸다는 표시\n",
    "plt.figure(figsize=(10,8))\n",
    "sns.heatmap(data=hourly_dayofweek_ride, annot=True, fmt='d')"
   ]
  },
  {
   "cell_type": "markdown",
   "metadata": {},
   "source": [
    "### 대여시간대 × 주말구분 따릉이 이용건수"
   ]
  },
  {
   "cell_type": "code",
   "execution_count": null,
   "metadata": {},
   "outputs": [],
   "source": [
    "# 주말구분 컬럼 생성\n",
    "bikes['주말구분'] = bikes['대여일시'].dt.day_of_week.apply(lambda x: '평일' if x < 5 else '주말')\n",
    "bikes.head(2)"
   ]
  },
  {
   "cell_type": "code",
   "execution_count": null,
   "metadata": {},
   "outputs": [],
   "source": [
    "weekedays_hourly_ride = bikes.pivot_table(\n",
    "                        index='대여시간대',\n",
    "                        columns='주말구분',\n",
    "                        values='자전거번호',\n",
    "                        aggfunc='count')\n",
    "weekedays_hourly_ride"
   ]
  },
  {
   "cell_type": "markdown",
   "metadata": {},
   "source": [
    "#### 대여시간대 × 주말구분 따릉이 이용건수 시각화"
   ]
  },
  {
   "cell_type": "code",
   "execution_count": null,
   "metadata": {},
   "outputs": [],
   "source": [
    "plt.figure(figsize=(15,4))\n",
    "sns.countplot(data=bikes, x='대여시간대', hue='주말구분')"
   ]
  },
  {
   "cell_type": "markdown",
   "metadata": {},
   "source": [
    "#### 히트맵"
   ]
  },
  {
   "cell_type": "code",
   "execution_count": null,
   "metadata": {},
   "outputs": [],
   "source": [
    "plt.figure(figsize=(10,8))\n",
    "sns.heatmap(data=weekedays_hourly_ride, annot=True, fmt='d')"
   ]
  },
  {
   "cell_type": "markdown",
   "metadata": {},
   "source": [
    "## 장소적 개념에 따른 시각화"
   ]
  },
  {
   "cell_type": "code",
   "execution_count": null,
   "metadata": {},
   "outputs": [],
   "source": [
    "# 구별이용시간평균 피봇테이블 생성\n",
    "구별이용시간평균 = bikes.pivot_table(\n",
    "                            index='대여구', \n",
    "                            values='이용시간',\n",
    "                            aggfunc='mean').reset_index() # 대여구 데이터를 인덱스에서 컬럼으로 이동\n",
    "구별이용시간평균"
   ]
  },
  {
   "cell_type": "code",
   "execution_count": null,
   "metadata": {},
   "outputs": [],
   "source": [
    "# 이용시간 기준 오름차순 정렬\n",
    "구별이용시간평균 = 구별이용시간평균.sort_values(by='이용시간',\n",
    "                                            ascending=True)\n",
    "구별이용시간평균"
   ]
  },
  {
   "cell_type": "markdown",
   "metadata": {},
   "source": [
    "### folium으로 지도 시각화"
   ]
  },
  {
   "cell_type": "code",
   "execution_count": null,
   "metadata": {},
   "outputs": [],
   "source": [
    "# map = folium.Map( location=지도중심위치, zoom_start=11 )\n",
    "# folium.Map : 중심위치와 배율을 조정해서 지도를 초기화해서 보여준다.\n",
    "# location=지도중심위치 : 중심위치의 위도와 경도를 입력한다.\n",
    "# zoom_start=11 : 배율을 입력한다. 값이 크면 더 좁은 지역을 크게 볼 수 있다.\n",
    "lat = bikes['대여점위도'].mean()\n",
    "lon = bikes['대여점경도'].mean()\n",
    "center = [lat, lon]\n",
    "map = folium.Map( location=center, zoom_start=11, width=700, height=700)\n",
    "map"
   ]
  },
  {
   "cell_type": "markdown",
   "metadata": {},
   "source": [
    "#### 지역구와 해당 수치 데이터 표시"
   ]
  },
  {
   "cell_type": "code",
   "execution_count": null,
   "metadata": {},
   "outputs": [],
   "source": [
    "import json # json 파일을 다루는 패키지\n",
    "\n",
    "with open('../../data/public_bike/seoul.json', 'r', encoding='utf-8') as f:\n",
    "    서울시지도 = json.load(f) # 서울시 지도데이터를 변수 할당\n",
    "\n",
    "# map에 정보 추가\n",
    "folium.Choropleth(\n",
    "            geo_data=서울시지도, # 지역구를 표시할 지리 데이터\n",
    "            data=구별이용시간평균, # 지도에 표시될 데이터프레임\n",
    "            columns=['대여구', '이용시간'], # 데이트 프레임에서 지역구와 이용시간 컬럼\n",
    "            fill_color='YlGnBu', # 표현할 색깔 : Yellow - Green - Blue\n",
    "            key_on='feature.properties.name' # json파일에서 key값\n",
    ").add_to(map)\n",
    "map"
   ]
  },
  {
   "cell_type": "code",
   "execution_count": null,
   "metadata": {},
   "outputs": [],
   "source": [
    "# 막대그래프 표시\n",
    "구별이용시간평균.plot(kind='barh', title='구별 이용시간 평균', figsize=(12,6), color = 'r')"
   ]
  },
  {
   "cell_type": "markdown",
   "metadata": {},
   "source": [
    "## 시간 × 장소적 특징 연관 분석 후 시각화"
   ]
  },
  {
   "cell_type": "markdown",
   "metadata": {},
   "source": [
    "### 대여시간대 × 대여구별 피봇 테이블"
   ]
  },
  {
   "cell_type": "code",
   "execution_count": null,
   "metadata": {},
   "outputs": [],
   "source": [
    "hourly_gu_use = bikes.pivot_table(\n",
    "                            index='대여시간대',\n",
    "                            columns='대여구',\n",
    "                            values='자전거번호',\n",
    "                            aggfunc='count')\n",
    "hourly_gu_use"
   ]
  },
  {
   "cell_type": "markdown",
   "metadata": {},
   "source": [
    "### 히트맵"
   ]
  },
  {
   "cell_type": "code",
   "execution_count": null,
   "metadata": {},
   "outputs": [],
   "source": [
    "plt.plot(figsize=(10,8))\n",
    "sns.heatmap(data=hourly_gu_use.T)"
   ]
  },
  {
   "cell_type": "markdown",
   "metadata": {},
   "source": [
    "### 박스 그래프"
   ]
  },
  {
   "cell_type": "code",
   "execution_count": null,
   "metadata": {},
   "outputs": [],
   "source": [
    "# seaborn의 boxplot\n",
    "plt.figure(figsize=(18,6))\n",
    "sns.boxplot(data=hourly_gu_use)"
   ]
  },
  {
   "cell_type": "markdown",
   "metadata": {},
   "source": [
    "## 주말과 평일에 인기 있는 대여소 상위 50개 지도에 표시해보기"
   ]
  },
  {
   "cell_type": "markdown",
   "metadata": {},
   "source": [
    "### 인기 대여소 50개 찾기"
   ]
  },
  {
   "cell_type": "code",
   "execution_count": null,
   "metadata": {},
   "outputs": [],
   "source": [
    "# 대여 대여소 × 주말구분의 이용거수 계산\n",
    "rent_bike = bikes.pivot_table(\n",
    "                        index=['대여 대여소명', '대여점위도', '대여점경도'],\n",
    "                        columns='주말구분',\n",
    "                        values='자전거번호',\n",
    "                        aggfunc='count')\n",
    "rent_bike.head(2)"
   ]
  },
  {
   "cell_type": "markdown",
   "metadata": {},
   "source": [
    "#### 인기 있는 주말 대여소 50개 찾기"
   ]
  },
  {
   "cell_type": "code",
   "execution_count": null,
   "metadata": {},
   "outputs": [],
   "source": [
    "# 인기 있는 주말 대여소 50개 찾기\n",
    "rent_bike.nlargest(50, '주말').head(5)"
   ]
  },
  {
   "cell_type": "code",
   "execution_count": null,
   "metadata": {},
   "outputs": [],
   "source": [
    "rent_bike.nlargest(50, '주말')['주말']"
   ]
  },
  {
   "cell_type": "code",
   "execution_count": null,
   "metadata": {},
   "outputs": [],
   "source": [
    "주말대여점50 = rent_bike.nlargest(50, '주말')['주말'].reset_index()\n",
    "주말대여점50.head()"
   ]
  },
  {
   "cell_type": "markdown",
   "metadata": {},
   "source": [
    "##### 주말 인기 대여소 folium으로 지도 시각화"
   ]
  },
  {
   "cell_type": "code",
   "execution_count": null,
   "metadata": {},
   "outputs": [],
   "source": [
    "# folium.Marker( location=[위도, 경도], popup=‘이름’, icon = folium.Icon() ).add_to(map)\n",
    "# folium.Marker : 지도에서 특정 위치를 아이콘으로 표시\n",
    "# location=[위도, 경도] : 아이콘이 표시될 위치\n",
    "# popup=‘이름’ : 아이콘으로 표시한 곳의 이름으로 아이콘을 클릭하면 이름이 나온다.\n",
    "# icon = folium.Icon(color=‘red’, icon=‘star’) : 지정하지 않으면 기본적으로 파란색 info 모양의 아이콘으로 표시하고 folium.Icon을 사용하여 다른 것을 지정할 수 있다\n",
    "map1 = folium.Map( location=center, zoom_start=11, width=700, height=700)\n",
    "for i in 주말대여점50.index:\n",
    "    sub_lat = 주말대여점50.loc[i, '대여점위도']\n",
    "    sub_lon = 주말대여점50.loc[i, '대여점경도']\n",
    "    대여점위치 = [sub_lat, sub_lon]\n",
    "    대여소명 = 주말대여점50.loc[i, '대여 대여소명']\n",
    "    iframe = \"<pre><b>대여소 이름:</b><br>\"+str(대여소명)+\"</pre>\" # 팝업창 텍스트\n",
    "    popup = folium.Popup(iframe, min_width=100, max_width=500) # 팝업창 크기 조절\n",
    "    # 지도에 데이터 찍어서 보여주기\n",
    "    folium.Marker(\n",
    "        location=대여점위치,\n",
    "        popup=popup,\n",
    "        tooltip=대여소명, # 마우스 커서 올리면 뜨는 창\n",
    "    ).add_to(map1)\n",
    "\n",
    "map1"
   ]
  },
  {
   "cell_type": "markdown",
   "metadata": {},
   "source": [
    "#### 인기 있는 평일 대여소 50개 찾기"
   ]
  },
  {
   "cell_type": "code",
   "execution_count": null,
   "metadata": {},
   "outputs": [],
   "source": [
    "평일대여점50 = rent_bike.nlargest(50, '평일')['평일'].reset_index()\n",
    "평일대여점50.head()"
   ]
  },
  {
   "cell_type": "code",
   "execution_count": null,
   "metadata": {},
   "outputs": [],
   "source": [
    "for i in 평일대여점50.index:\n",
    "    sub_lat = 평일대여점50.loc[i, '대여점위도']\n",
    "    sub_lon = 평일대여점50.loc[i, '대여점경도']\n",
    "    대여점위치 = [sub_lat, sub_lon]\n",
    "    대여소명 = 평일대여점50.loc[i, '대여 대여소명']\n",
    "    iframe = \"<pre><b>대여소 이름:</b><br>\"+str(대여소명)+\"</pre>\" # 팝업창 텍스트\n",
    "    popup = folium.Popup(iframe, min_width=100, max_width=400) # 팝업창 크기 조절\n",
    "    # 지도에 데이터 찍어서 보여주기\n",
    "    folium.Marker(\n",
    "        location=대여점위치,\n",
    "        popup=popup,\n",
    "        tooltip=대여소명,  # 마우스 커서 올리면 뜨는 창\n",
    "        icon=folium.Icon(color='red', icon='star')\n",
    "    ).add_to(map1)\n",
    "    \n",
    "map1"
   ]
  }
 ],
 "metadata": {
  "kernelspec": {
   "display_name": ".venv",
   "language": "python",
   "name": "python3"
  },
  "language_info": {
   "codemirror_mode": {
    "name": "ipython",
    "version": 3
   },
   "file_extension": ".py",
   "mimetype": "text/x-python",
   "name": "python",
   "nbconvert_exporter": "python",
   "pygments_lexer": "ipython3",
   "version": "3.12.1"
  }
 },
 "nbformat": 4,
 "nbformat_minor": 2
}
