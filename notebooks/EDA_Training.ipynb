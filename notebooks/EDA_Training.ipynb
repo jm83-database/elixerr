{
  "cells": [
    {
      "cell_type": "markdown",
      "metadata": {
        "id": "do7VdYgXhTXF"
      },
      "source": [
        "##**★ 다음과 같이 작성해보세요.**\n",
        "- 다음과 같이 검색하여 파일을 생성합니다. 파일이름은 임의로 설정합니다.\n",
        " - 기상자료개발포털 : http://data.kma.go.kr --> '기후통계분석' --> '통계분석' --> '조건별 통계'\n",
        " - 지역/지점 : *조별 지정된 지역 선택*\n",
        " - 기간 : 일, 2010 ~ 2023\n",
        " - 월 : 1 ~ 12, 일 : 1 ~ 31"
      ]
    },
    {
      "cell_type": "markdown",
      "metadata": {
        "id": "jNozRgar9n7o"
      },
      "source": [
        "###**1. 데이터 불러오기**"
      ]
    },
    {
      "cell_type": "code",
      "execution_count": 260,
      "metadata": {},
      "outputs": [],
      "source": [
        "import numpy as np\n",
        "import pandas as pd"
      ]
    },
    {
      "cell_type": "code",
      "execution_count": 261,
      "metadata": {
        "id": "5WoxHqCfk0xA"
      },
      "outputs": [
        {
          "data": {
            "text/html": [
              "<div>\n",
              "<style scoped>\n",
              "    .dataframe tbody tr th:only-of-type {\n",
              "        vertical-align: middle;\n",
              "    }\n",
              "\n",
              "    .dataframe tbody tr th {\n",
              "        vertical-align: top;\n",
              "    }\n",
              "\n",
              "    .dataframe thead th {\n",
              "        text-align: right;\n",
              "    }\n",
              "</style>\n",
              "<table border=\"1\" class=\"dataframe\">\n",
              "  <thead>\n",
              "    <tr style=\"text-align: right;\">\n",
              "      <th></th>\n",
              "      <th>지점번호</th>\n",
              "      <th>지점명</th>\n",
              "      <th>일시</th>\n",
              "      <th>평균기온(℃)</th>\n",
              "      <th>최고기온(℃)</th>\n",
              "      <th>최고기온시각</th>\n",
              "      <th>최저기온(℃)</th>\n",
              "      <th>최저기온시각</th>\n",
              "      <th>일교차</th>\n",
              "    </tr>\n",
              "  </thead>\n",
              "  <tbody>\n",
              "    <tr>\n",
              "      <th>0</th>\n",
              "      <td>\\t\\t108</td>\n",
              "      <td>서울</td>\n",
              "      <td>2010-01-01</td>\n",
              "      <td>-7.6</td>\n",
              "      <td>-3.6</td>\n",
              "      <td>15:01</td>\n",
              "      <td>-12.7</td>\n",
              "      <td>6:54</td>\n",
              "      <td>9.1</td>\n",
              "    </tr>\n",
              "    <tr>\n",
              "      <th>1</th>\n",
              "      <td>\\t\\t108</td>\n",
              "      <td>서울</td>\n",
              "      <td>2010-01-02</td>\n",
              "      <td>-3.6</td>\n",
              "      <td>0.2</td>\n",
              "      <td>15:24</td>\n",
              "      <td>-7.4</td>\n",
              "      <td>23:59</td>\n",
              "      <td>7.6</td>\n",
              "    </tr>\n",
              "    <tr>\n",
              "      <th>2</th>\n",
              "      <td>\\t\\t108</td>\n",
              "      <td>서울</td>\n",
              "      <td>2010-01-03</td>\n",
              "      <td>-6.8</td>\n",
              "      <td>-3.2</td>\n",
              "      <td>14:38</td>\n",
              "      <td>-10.5</td>\n",
              "      <td>7:48</td>\n",
              "      <td>7.3</td>\n",
              "    </tr>\n",
              "    <tr>\n",
              "      <th>3</th>\n",
              "      <td>\\t\\t108</td>\n",
              "      <td>서울</td>\n",
              "      <td>2010-01-04</td>\n",
              "      <td>-5.9</td>\n",
              "      <td>-3.4</td>\n",
              "      <td>14:25</td>\n",
              "      <td>-8.0</td>\n",
              "      <td>24:00:00</td>\n",
              "      <td>4.6</td>\n",
              "    </tr>\n",
              "    <tr>\n",
              "      <th>4</th>\n",
              "      <td>\\t\\t108</td>\n",
              "      <td>서울</td>\n",
              "      <td>2010-01-05</td>\n",
              "      <td>-9.9</td>\n",
              "      <td>-7.0</td>\n",
              "      <td>15:06</td>\n",
              "      <td>-12.3</td>\n",
              "      <td>23:33</td>\n",
              "      <td>5.3</td>\n",
              "    </tr>\n",
              "    <tr>\n",
              "      <th>...</th>\n",
              "      <td>...</td>\n",
              "      <td>...</td>\n",
              "      <td>...</td>\n",
              "      <td>...</td>\n",
              "      <td>...</td>\n",
              "      <td>...</td>\n",
              "      <td>...</td>\n",
              "      <td>...</td>\n",
              "      <td>...</td>\n",
              "    </tr>\n",
              "    <tr>\n",
              "      <th>5116</th>\n",
              "      <td>\\t</td>\n",
              "      <td>NaN</td>\n",
              "      <td>NaN</td>\n",
              "      <td>NaN</td>\n",
              "      <td>NaN</td>\n",
              "      <td>NaN</td>\n",
              "      <td>NaN</td>\n",
              "      <td>NaN</td>\n",
              "      <td>NaN</td>\n",
              "    </tr>\n",
              "    <tr>\n",
              "      <th>5117</th>\n",
              "      <td>\\t</td>\n",
              "      <td>NaN</td>\n",
              "      <td>NaN</td>\n",
              "      <td>NaN</td>\n",
              "      <td>NaN</td>\n",
              "      <td>NaN</td>\n",
              "      <td>NaN</td>\n",
              "      <td>NaN</td>\n",
              "      <td>NaN</td>\n",
              "    </tr>\n",
              "    <tr>\n",
              "      <th>5118</th>\n",
              "      <td>\\t\\t</td>\n",
              "      <td>NaN</td>\n",
              "      <td>NaN</td>\n",
              "      <td>NaN</td>\n",
              "      <td>NaN</td>\n",
              "      <td>NaN</td>\n",
              "      <td>NaN</td>\n",
              "      <td>NaN</td>\n",
              "      <td>NaN</td>\n",
              "    </tr>\n",
              "    <tr>\n",
              "      <th>5119</th>\n",
              "      <td>\\t</td>\n",
              "      <td>NaN</td>\n",
              "      <td>NaN</td>\n",
              "      <td>NaN</td>\n",
              "      <td>NaN</td>\n",
              "      <td>NaN</td>\n",
              "      <td>NaN</td>\n",
              "      <td>NaN</td>\n",
              "      <td>NaN</td>\n",
              "    </tr>\n",
              "    <tr>\n",
              "      <th>5120</th>\n",
              "      <td>\\t</td>\n",
              "      <td>NaN</td>\n",
              "      <td>NaN</td>\n",
              "      <td>NaN</td>\n",
              "      <td>NaN</td>\n",
              "      <td>NaN</td>\n",
              "      <td>NaN</td>\n",
              "      <td>NaN</td>\n",
              "      <td>NaN</td>\n",
              "    </tr>\n",
              "  </tbody>\n",
              "</table>\n",
              "<p>5121 rows × 9 columns</p>\n",
              "</div>"
            ],
            "text/plain": [
              "         지점번호  지점명          일시  평균기온(℃)  최고기온(℃) 최고기온시각  최저기온(℃)    최저기온시각  \\\n",
              "0     \\t\\t108   서울  2010-01-01     -7.6     -3.6  15:01    -12.7      6:54   \n",
              "1     \\t\\t108   서울  2010-01-02     -3.6      0.2  15:24     -7.4     23:59   \n",
              "2     \\t\\t108   서울  2010-01-03     -6.8     -3.2  14:38    -10.5      7:48   \n",
              "3     \\t\\t108   서울  2010-01-04     -5.9     -3.4  14:25     -8.0  24:00:00   \n",
              "4     \\t\\t108   서울  2010-01-05     -9.9     -7.0  15:06    -12.3     23:33   \n",
              "...       ...  ...         ...      ...      ...    ...      ...       ...   \n",
              "5116       \\t  NaN         NaN      NaN      NaN    NaN      NaN       NaN   \n",
              "5117       \\t  NaN         NaN      NaN      NaN    NaN      NaN       NaN   \n",
              "5118     \\t\\t  NaN         NaN      NaN      NaN    NaN      NaN       NaN   \n",
              "5119       \\t  NaN         NaN      NaN      NaN    NaN      NaN       NaN   \n",
              "5120       \\t  NaN         NaN      NaN      NaN    NaN      NaN       NaN   \n",
              "\n",
              "      일교차  \n",
              "0     9.1  \n",
              "1     7.6  \n",
              "2     7.3  \n",
              "3     4.6  \n",
              "4     5.3  \n",
              "...   ...  \n",
              "5116  NaN  \n",
              "5117  NaN  \n",
              "5118  NaN  \n",
              "5119  NaN  \n",
              "5120  NaN  \n",
              "\n",
              "[5121 rows x 9 columns]"
            ]
          },
          "execution_count": 261,
          "metadata": {},
          "output_type": "execute_result"
        }
      ],
      "source": [
        "seoul_weather = pd.read_csv('../data/2010-2023_seoul_weather.csv', encoding='EUC-KR')\n",
        "seoul_weather"
      ]
    },
    {
      "cell_type": "markdown",
      "metadata": {
        "id": "OZkW86Zq9vFU"
      },
      "source": [
        "###**2. 데이터 셋 재조정**\n",
        " - 지점번호, 지점명을 제외한 데이터만 가져오기<br>\n",
        "   - 변수명 = 변수명.loc[행레이블,열레이블]\n",
        " - 열이름 변경\n",
        "    - 변수명.columns=['열이름', '열이름', ....]"
      ]
    },
    {
      "cell_type": "code",
      "execution_count": 262,
      "metadata": {
        "id": "Aqzk-SDFlhxc"
      },
      "outputs": [
        {
          "data": {
            "text/html": [
              "<div>\n",
              "<style scoped>\n",
              "    .dataframe tbody tr th:only-of-type {\n",
              "        vertical-align: middle;\n",
              "    }\n",
              "\n",
              "    .dataframe tbody tr th {\n",
              "        vertical-align: top;\n",
              "    }\n",
              "\n",
              "    .dataframe thead th {\n",
              "        text-align: right;\n",
              "    }\n",
              "</style>\n",
              "<table border=\"1\" class=\"dataframe\">\n",
              "  <thead>\n",
              "    <tr style=\"text-align: right;\">\n",
              "      <th></th>\n",
              "      <th>일시</th>\n",
              "      <th>평균기온</th>\n",
              "      <th>최고기온</th>\n",
              "      <th>최고기온시각</th>\n",
              "      <th>최저기온</th>\n",
              "      <th>최저기온시각</th>\n",
              "      <th>일교차</th>\n",
              "    </tr>\n",
              "  </thead>\n",
              "  <tbody>\n",
              "    <tr>\n",
              "      <th>0</th>\n",
              "      <td>2010-01-01</td>\n",
              "      <td>-7.6</td>\n",
              "      <td>-3.6</td>\n",
              "      <td>15:01</td>\n",
              "      <td>-12.7</td>\n",
              "      <td>6:54</td>\n",
              "      <td>9.1</td>\n",
              "    </tr>\n",
              "    <tr>\n",
              "      <th>1</th>\n",
              "      <td>2010-01-02</td>\n",
              "      <td>-3.6</td>\n",
              "      <td>0.2</td>\n",
              "      <td>15:24</td>\n",
              "      <td>-7.4</td>\n",
              "      <td>23:59</td>\n",
              "      <td>7.6</td>\n",
              "    </tr>\n",
              "    <tr>\n",
              "      <th>2</th>\n",
              "      <td>2010-01-03</td>\n",
              "      <td>-6.8</td>\n",
              "      <td>-3.2</td>\n",
              "      <td>14:38</td>\n",
              "      <td>-10.5</td>\n",
              "      <td>7:48</td>\n",
              "      <td>7.3</td>\n",
              "    </tr>\n",
              "    <tr>\n",
              "      <th>3</th>\n",
              "      <td>2010-01-04</td>\n",
              "      <td>-5.9</td>\n",
              "      <td>-3.4</td>\n",
              "      <td>14:25</td>\n",
              "      <td>-8.0</td>\n",
              "      <td>24:00:00</td>\n",
              "      <td>4.6</td>\n",
              "    </tr>\n",
              "    <tr>\n",
              "      <th>4</th>\n",
              "      <td>2010-01-05</td>\n",
              "      <td>-9.9</td>\n",
              "      <td>-7.0</td>\n",
              "      <td>15:06</td>\n",
              "      <td>-12.3</td>\n",
              "      <td>23:33</td>\n",
              "      <td>5.3</td>\n",
              "    </tr>\n",
              "  </tbody>\n",
              "</table>\n",
              "</div>"
            ],
            "text/plain": [
              "           일시  평균기온  최고기온 최고기온시각  최저기온    최저기온시각  일교차\n",
              "0  2010-01-01  -7.6  -3.6  15:01 -12.7      6:54  9.1\n",
              "1  2010-01-02  -3.6   0.2  15:24  -7.4     23:59  7.6\n",
              "2  2010-01-03  -6.8  -3.2  14:38 -10.5      7:48  7.3\n",
              "3  2010-01-04  -5.9  -3.4  14:25  -8.0  24:00:00  4.6\n",
              "4  2010-01-05  -9.9  -7.0  15:06 -12.3     23:33  5.3"
            ]
          },
          "execution_count": 262,
          "metadata": {},
          "output_type": "execute_result"
        }
      ],
      "source": [
        "# 지점번호, 지점명을 제외한 데이터만 data 변수로 저장\n",
        "# 데이터프레임 변수 data의 열번호 변경 ==> '일시','평균기온','최고기온','최고기온시각','최저기온','최저기온시각','일교차'\n",
        "# data = seoul_weather.drop(['지점번호','지점명'], axis=1)\n",
        "# data\n",
        "\n",
        "data = seoul_weather.loc[:, '일시':]\n",
        "data.columns = ['일시','평균기온','최고기온','최고기온시각','최저기온','최저기온시각','일교차']\n",
        "data.head()"
      ]
    },
    {
      "cell_type": "markdown",
      "metadata": {
        "id": "XHk6gCsX_J7p"
      },
      "source": [
        "###**3. 결측값 확인**\n",
        "- 결측값 개수 확인 : 변수명.isnull().sum()\n",
        "- 결측값 데이터 확인 : 변수명[변수명['컬럼명'].isnull( )]"
      ]
    },
    {
      "cell_type": "code",
      "execution_count": 263,
      "metadata": {
        "id": "Yw46LBvX6tpw"
      },
      "outputs": [
        {
          "data": {
            "text/plain": [
              "일시         8\n",
              "평균기온       8\n",
              "최고기온       9\n",
              "최고기온시각     9\n",
              "최저기온       9\n",
              "최저기온시각     9\n",
              "일교차       10\n",
              "dtype: int64"
            ]
          },
          "execution_count": 263,
          "metadata": {},
          "output_type": "execute_result"
        }
      ],
      "source": [
        "# 결측값 개수 확인\n",
        "data.isnull().sum()"
      ]
    },
    {
      "cell_type": "code",
      "execution_count": 264,
      "metadata": {
        "id": "aJyqk1-FGrON"
      },
      "outputs": [
        {
          "data": {
            "text/html": [
              "<div>\n",
              "<style scoped>\n",
              "    .dataframe tbody tr th:only-of-type {\n",
              "        vertical-align: middle;\n",
              "    }\n",
              "\n",
              "    .dataframe tbody tr th {\n",
              "        vertical-align: top;\n",
              "    }\n",
              "\n",
              "    .dataframe thead th {\n",
              "        text-align: right;\n",
              "    }\n",
              "</style>\n",
              "<table border=\"1\" class=\"dataframe\">\n",
              "  <thead>\n",
              "    <tr style=\"text-align: right;\">\n",
              "      <th></th>\n",
              "      <th>일시</th>\n",
              "      <th>평균기온</th>\n",
              "      <th>최고기온</th>\n",
              "      <th>최고기온시각</th>\n",
              "      <th>최저기온</th>\n",
              "      <th>최저기온시각</th>\n",
              "      <th>일교차</th>\n",
              "    </tr>\n",
              "  </thead>\n",
              "  <tbody>\n",
              "    <tr>\n",
              "      <th>5113</th>\n",
              "      <td>NaN</td>\n",
              "      <td>NaN</td>\n",
              "      <td>NaN</td>\n",
              "      <td>NaN</td>\n",
              "      <td>NaN</td>\n",
              "      <td>NaN</td>\n",
              "      <td>NaN</td>\n",
              "    </tr>\n",
              "    <tr>\n",
              "      <th>5114</th>\n",
              "      <td>NaN</td>\n",
              "      <td>NaN</td>\n",
              "      <td>NaN</td>\n",
              "      <td>NaN</td>\n",
              "      <td>NaN</td>\n",
              "      <td>NaN</td>\n",
              "      <td>NaN</td>\n",
              "    </tr>\n",
              "    <tr>\n",
              "      <th>5115</th>\n",
              "      <td>NaN</td>\n",
              "      <td>NaN</td>\n",
              "      <td>NaN</td>\n",
              "      <td>NaN</td>\n",
              "      <td>NaN</td>\n",
              "      <td>NaN</td>\n",
              "      <td>NaN</td>\n",
              "    </tr>\n",
              "    <tr>\n",
              "      <th>5116</th>\n",
              "      <td>NaN</td>\n",
              "      <td>NaN</td>\n",
              "      <td>NaN</td>\n",
              "      <td>NaN</td>\n",
              "      <td>NaN</td>\n",
              "      <td>NaN</td>\n",
              "      <td>NaN</td>\n",
              "    </tr>\n",
              "    <tr>\n",
              "      <th>5117</th>\n",
              "      <td>NaN</td>\n",
              "      <td>NaN</td>\n",
              "      <td>NaN</td>\n",
              "      <td>NaN</td>\n",
              "      <td>NaN</td>\n",
              "      <td>NaN</td>\n",
              "      <td>NaN</td>\n",
              "    </tr>\n",
              "    <tr>\n",
              "      <th>5118</th>\n",
              "      <td>NaN</td>\n",
              "      <td>NaN</td>\n",
              "      <td>NaN</td>\n",
              "      <td>NaN</td>\n",
              "      <td>NaN</td>\n",
              "      <td>NaN</td>\n",
              "      <td>NaN</td>\n",
              "    </tr>\n",
              "    <tr>\n",
              "      <th>5119</th>\n",
              "      <td>NaN</td>\n",
              "      <td>NaN</td>\n",
              "      <td>NaN</td>\n",
              "      <td>NaN</td>\n",
              "      <td>NaN</td>\n",
              "      <td>NaN</td>\n",
              "      <td>NaN</td>\n",
              "    </tr>\n",
              "    <tr>\n",
              "      <th>5120</th>\n",
              "      <td>NaN</td>\n",
              "      <td>NaN</td>\n",
              "      <td>NaN</td>\n",
              "      <td>NaN</td>\n",
              "      <td>NaN</td>\n",
              "      <td>NaN</td>\n",
              "      <td>NaN</td>\n",
              "    </tr>\n",
              "  </tbody>\n",
              "</table>\n",
              "</div>"
            ],
            "text/plain": [
              "       일시  평균기온  최고기온 최고기온시각  최저기온 최저기온시각  일교차\n",
              "5113  NaN   NaN   NaN    NaN   NaN    NaN  NaN\n",
              "5114  NaN   NaN   NaN    NaN   NaN    NaN  NaN\n",
              "5115  NaN   NaN   NaN    NaN   NaN    NaN  NaN\n",
              "5116  NaN   NaN   NaN    NaN   NaN    NaN  NaN\n",
              "5117  NaN   NaN   NaN    NaN   NaN    NaN  NaN\n",
              "5118  NaN   NaN   NaN    NaN   NaN    NaN  NaN\n",
              "5119  NaN   NaN   NaN    NaN   NaN    NaN  NaN\n",
              "5120  NaN   NaN   NaN    NaN   NaN    NaN  NaN"
            ]
          },
          "execution_count": 264,
          "metadata": {},
          "output_type": "execute_result"
        }
      ],
      "source": [
        "# 결측값 데이터 확인\n",
        "data[data['일시'].isnull()]"
      ]
    },
    {
      "cell_type": "markdown",
      "metadata": {
        "id": "lin2FuCMBvL9"
      },
      "source": [
        "###**4. 결측값 행/열 삭제**\n",
        "- 결측값이 들어있는 행 전체 삭제하기 : 변수명.dropna(axis=0)\n",
        "- 결측값이 들어있는 열 전체 삭제하기 : 변수명.dropna(axis=1)\n"
      ]
    },
    {
      "cell_type": "code",
      "execution_count": 265,
      "metadata": {
        "id": "l6KMN4J34onK"
      },
      "outputs": [
        {
          "name": "stdout",
          "output_type": "stream",
          "text": [
            "삭제 전 (5121, 7)\n",
            "삭제 후 (5111, 7)\n"
          ]
        },
        {
          "data": {
            "text/plain": [
              "일시        0\n",
              "평균기온      0\n",
              "최고기온      0\n",
              "최고기온시각    0\n",
              "최저기온      0\n",
              "최저기온시각    0\n",
              "일교차       0\n",
              "dtype: int64"
            ]
          },
          "execution_count": 265,
          "metadata": {},
          "output_type": "execute_result"
        }
      ],
      "source": [
        "# 결측값 행 전체 삭제\n",
        "print('삭제 전',data.shape) # 삭제 전 shape 조회\n",
        "data = data.dropna(axis=0)\n",
        "print('삭제 후', data.shape) # 삭제 후 shape 조회\n",
        "data.isnull().sum()"
      ]
    },
    {
      "cell_type": "code",
      "execution_count": 266,
      "metadata": {
        "id": "el5TkGdXFumO"
      },
      "outputs": [
        {
          "name": "stdout",
          "output_type": "stream",
          "text": [
            "<class 'pandas.core.frame.DataFrame'>\n",
            "Index: 5111 entries, 0 to 5112\n",
            "Data columns (total 7 columns):\n",
            " #   Column  Non-Null Count  Dtype  \n",
            "---  ------  --------------  -----  \n",
            " 0   일시      5111 non-null   object \n",
            " 1   평균기온    5111 non-null   float64\n",
            " 2   최고기온    5111 non-null   float64\n",
            " 3   최고기온시각  5111 non-null   object \n",
            " 4   최저기온    5111 non-null   float64\n",
            " 5   최저기온시각  5111 non-null   object \n",
            " 6   일교차     5111 non-null   float64\n",
            "dtypes: float64(4), object(3)\n",
            "memory usage: 319.4+ KB\n"
          ]
        }
      ],
      "source": [
        "# 기본 정보 확인\n",
        "data.info()"
      ]
    },
    {
      "cell_type": "markdown",
      "metadata": {
        "id": "7ZQV3sJKHhTr"
      },
      "source": [
        "###**5-1. 최고기온과 해당 날짜 출력**\n",
        "- ⓐ 최고기온 계산 : '최고기온' 컬럼에서 최대값 계산(max() 함수)\n",
        " - hint : 변수명['컬럼명'].max( )\n",
        "- '최고기온' 컬럼에서 'ⓐ 계산된 최고기온'과 같은 데이터 검색\n",
        " - hint : 변수명[변수명['컬럼명'] == 비교값] [ ['컬럼명1', '컬럼명2', ....] ]\n",
        "- index 재조정 : 변수명.reset_index( )\n",
        "- '날짜', '최고온도' 컬럼 출력 : 변수명.loc[행레이블,열레이블]\n",
        "\n",
        "```\n",
        "[출력결과]\n",
        "00 지역에서 최고 기온이 가장 높았던 날은 0000-00-00 로 00.0도 였습니다.\n",
        "```\n",
        "\n"
      ]
    },
    {
      "cell_type": "code",
      "execution_count": 267,
      "metadata": {
        "id": "tZzwW6zwmt6f"
      },
      "outputs": [
        {
          "name": "stdout",
          "output_type": "stream",
          "text": [
            "최고기온 39.6\n",
            "서울 지역에서 최고 기온이 가장 높았던 날은 2018-08-01로 39.6도 였습니다.\n"
          ]
        }
      ],
      "source": [
        "# '최고기온' 컬럼에서 '계산된 최고기온'과 같은 데이터 검색하여 maxData 변수에 저장\n",
        "# maxData 데이터프레임의 index 초기화\n",
        "# maxData 데이터프레임에서 '일시'와 '최고기온' 출력 - 변수명.loc[0,열이름]\n",
        "max_temp = data['최고기온'].max()\n",
        "print('최고기온', max_temp)\n",
        "maxData = data.loc[data['최고기온'] == max_temp,['일시', '최고기온']].reset_index(drop=True)\n",
        "\n",
        "print('서울 지역에서 최고 기온이 가장 높았던 날은 ', maxData.iloc[0,0], '로 ', maxData.iloc[0,1], '도 였습니다.', sep='')"
      ]
    },
    {
      "cell_type": "markdown",
      "metadata": {
        "id": "LxySdGNlKvTW"
      },
      "source": [
        "###**5-2. 최저기온와 해당 날짜 출력**\n",
        "- ⓑ 최저기온 계산 : '최저기온' 컬럼에서 최소값 계산(min() 함수)\n",
        "- '최저기온' 컬럼에서 'ⓑ 계산된 최저기온'과 같은 데이터 검색\n",
        "- index 재조정 : 변수명.reset_index( )\n",
        "- '날짜', '최저온도' 컬럼 출력 : 변수명.loc[행레이블,열레이블]\n",
        "\n",
        "```\n",
        "[출력결과]\n",
        "00 지역에서 최저 기온이 가장 낮았던 날은 0000-00-00 로 00.0도 였습니다.\n",
        "```"
      ]
    },
    {
      "cell_type": "code",
      "execution_count": 268,
      "metadata": {
        "id": "y6TcAlYiLYI0"
      },
      "outputs": [
        {
          "name": "stdout",
          "output_type": "stream",
          "text": [
            "최저기온 -18.6\n",
            "서울 지역에서 최저 기온이 가장 낮았던 날은 2021-01-08로 -18.6도 였습니다.\n"
          ]
        }
      ],
      "source": [
        "# '최저기온' 컬럼에서 '계산된 최저기온'과 같은 데이터 검색하여 minData 변수에 저장\n",
        "# minData 데이터프레임의 index 초기화\n",
        "# minData 데이터프레임에서 '일시'와 '최저기온' 출력 - 변수명.loc[0,열이름]\n",
        "min_temp = data['최저기온'].min()\n",
        "print('최저기온', min_temp)\n",
        "minData = data.loc[data['최저기온'] == min_temp,['일시', '최저기온']].reset_index(drop=True)\n",
        "\n",
        "print('서울 지역에서 최저 기온이 가장 낮았던 날은 ', minData.iloc[0,0], '로 ', minData.iloc[0,1], '도 였습니다.', sep='')"
      ]
    },
    {
      "cell_type": "markdown",
      "metadata": {
        "id": "zOZH6L4UMo4v"
      },
      "source": [
        "###**7. 본인 생일 날짜의 기온 변화 그래프 작성**\n",
        "- **1단계 : '일시' 열에서 '년'만, '월-일'만 추출하여 새로운 열 생성**\n",
        " - 인덱싱 : 변수명['컬럼명'].str[ ]\n",
        " - '년도' 열 생성 : '일시' 컬럼의 값에서 앞 4자리까지만 추출 ==> data['년도'] = data['일시'].str[ :4 ]\n",
        " - '날짜' 열 생성 : '일시' 컬럼의 값에서 5자리부터 끝까지만 추출 ==> data['날짜'] = data['일시'].str[ 5: ]\n",
        "\n",
        "- **2단계 : 생성된 '날짜'열 값에서 본인 생일과 동일한 날짜 검색**\n",
        "- **3단계 :'년도(2010 ~ 2023)'별로 '최고기온'과 '최저기온' 변화 꺽은선 그래프 작성**\n",
        "  - 차트 크기 : plt.figure(figsize=(가로, 세로)), 단위:inch\n",
        "  - 차트 제목 : plt.title(\"제목\")\n",
        "  - 차트 범례 : plt.legend( )\n",
        "  - 차트 보여주기 : plt.show( )"
      ]
    },
    {
      "cell_type": "code",
      "execution_count": 269,
      "metadata": {
        "id": "7k-hfxJPWXWZ"
      },
      "outputs": [
        {
          "name": "stdout",
          "output_type": "stream",
          "text": [
            "Requirement already satisfied: koreanize-matplotlib in d:\\dev\\github\\elixerr\\.venv\\lib\\site-packages (0.1.1)\n",
            "Requirement already satisfied: matplotlib in d:\\dev\\github\\elixerr\\.venv\\lib\\site-packages (from koreanize-matplotlib) (3.9.0)\n",
            "Requirement already satisfied: contourpy>=1.0.1 in d:\\dev\\github\\elixerr\\.venv\\lib\\site-packages (from matplotlib->koreanize-matplotlib) (1.2.1)\n",
            "Requirement already satisfied: cycler>=0.10 in d:\\dev\\github\\elixerr\\.venv\\lib\\site-packages (from matplotlib->koreanize-matplotlib) (0.12.1)\n",
            "Requirement already satisfied: fonttools>=4.22.0 in d:\\dev\\github\\elixerr\\.venv\\lib\\site-packages (from matplotlib->koreanize-matplotlib) (4.53.0)\n",
            "Requirement already satisfied: kiwisolver>=1.3.1 in d:\\dev\\github\\elixerr\\.venv\\lib\\site-packages (from matplotlib->koreanize-matplotlib) (1.4.5)\n",
            "Requirement already satisfied: numpy>=1.23 in d:\\dev\\github\\elixerr\\.venv\\lib\\site-packages (from matplotlib->koreanize-matplotlib) (2.0.0)\n",
            "Requirement already satisfied: packaging>=20.0 in d:\\dev\\github\\elixerr\\.venv\\lib\\site-packages (from matplotlib->koreanize-matplotlib) (24.1)\n",
            "Requirement already satisfied: pillow>=8 in d:\\dev\\github\\elixerr\\.venv\\lib\\site-packages (from matplotlib->koreanize-matplotlib) (10.3.0)\n",
            "Requirement already satisfied: pyparsing>=2.3.1 in d:\\dev\\github\\elixerr\\.venv\\lib\\site-packages (from matplotlib->koreanize-matplotlib) (3.1.2)\n",
            "Requirement already satisfied: python-dateutil>=2.7 in d:\\dev\\github\\elixerr\\.venv\\lib\\site-packages (from matplotlib->koreanize-matplotlib) (2.9.0.post0)\n",
            "Requirement already satisfied: six>=1.5 in d:\\dev\\github\\elixerr\\.venv\\lib\\site-packages (from python-dateutil>=2.7->matplotlib->koreanize-matplotlib) (1.16.0)\n"
          ]
        }
      ],
      "source": [
        "# 한글 폰트 설치\n",
        "!pip install koreanize-matplotlib\n",
        "import koreanize_matplotlib"
      ]
    },
    {
      "cell_type": "code",
      "execution_count": 270,
      "metadata": {},
      "outputs": [
        {
          "name": "stdout",
          "output_type": "stream",
          "text": [
            "2010-01-01\n"
          ]
        },
        {
          "data": {
            "text/plain": [
              "str"
            ]
          },
          "execution_count": 270,
          "metadata": {},
          "output_type": "execute_result"
        }
      ],
      "source": [
        "# 일시 데이터 자세히 보기\n",
        "print(data.일시[0])\n",
        "type(data.일시[0])"
      ]
    },
    {
      "cell_type": "code",
      "execution_count": 271,
      "metadata": {
        "id": "OTB9D59QRY5V"
      },
      "outputs": [
        {
          "data": {
            "text/html": [
              "<div>\n",
              "<style scoped>\n",
              "    .dataframe tbody tr th:only-of-type {\n",
              "        vertical-align: middle;\n",
              "    }\n",
              "\n",
              "    .dataframe tbody tr th {\n",
              "        vertical-align: top;\n",
              "    }\n",
              "\n",
              "    .dataframe thead th {\n",
              "        text-align: right;\n",
              "    }\n",
              "</style>\n",
              "<table border=\"1\" class=\"dataframe\">\n",
              "  <thead>\n",
              "    <tr style=\"text-align: right;\">\n",
              "      <th></th>\n",
              "      <th>일시</th>\n",
              "      <th>평균기온</th>\n",
              "      <th>최고기온</th>\n",
              "      <th>최고기온시각</th>\n",
              "      <th>최저기온</th>\n",
              "      <th>최저기온시각</th>\n",
              "      <th>일교차</th>\n",
              "      <th>년도</th>\n",
              "      <th>날짜</th>\n",
              "    </tr>\n",
              "  </thead>\n",
              "  <tbody>\n",
              "    <tr>\n",
              "      <th>0</th>\n",
              "      <td>2010-01-01</td>\n",
              "      <td>-7.6</td>\n",
              "      <td>-3.6</td>\n",
              "      <td>15:01</td>\n",
              "      <td>-12.7</td>\n",
              "      <td>6:54</td>\n",
              "      <td>9.1</td>\n",
              "      <td>2010</td>\n",
              "      <td>01-01</td>\n",
              "    </tr>\n",
              "    <tr>\n",
              "      <th>1</th>\n",
              "      <td>2010-01-02</td>\n",
              "      <td>-3.6</td>\n",
              "      <td>0.2</td>\n",
              "      <td>15:24</td>\n",
              "      <td>-7.4</td>\n",
              "      <td>23:59</td>\n",
              "      <td>7.6</td>\n",
              "      <td>2010</td>\n",
              "      <td>01-02</td>\n",
              "    </tr>\n",
              "    <tr>\n",
              "      <th>2</th>\n",
              "      <td>2010-01-03</td>\n",
              "      <td>-6.8</td>\n",
              "      <td>-3.2</td>\n",
              "      <td>14:38</td>\n",
              "      <td>-10.5</td>\n",
              "      <td>7:48</td>\n",
              "      <td>7.3</td>\n",
              "      <td>2010</td>\n",
              "      <td>01-03</td>\n",
              "    </tr>\n",
              "    <tr>\n",
              "      <th>3</th>\n",
              "      <td>2010-01-04</td>\n",
              "      <td>-5.9</td>\n",
              "      <td>-3.4</td>\n",
              "      <td>14:25</td>\n",
              "      <td>-8.0</td>\n",
              "      <td>24:00:00</td>\n",
              "      <td>4.6</td>\n",
              "      <td>2010</td>\n",
              "      <td>01-04</td>\n",
              "    </tr>\n",
              "    <tr>\n",
              "      <th>4</th>\n",
              "      <td>2010-01-05</td>\n",
              "      <td>-9.9</td>\n",
              "      <td>-7.0</td>\n",
              "      <td>15:06</td>\n",
              "      <td>-12.3</td>\n",
              "      <td>23:33</td>\n",
              "      <td>5.3</td>\n",
              "      <td>2010</td>\n",
              "      <td>01-05</td>\n",
              "    </tr>\n",
              "    <tr>\n",
              "      <th>...</th>\n",
              "      <td>...</td>\n",
              "      <td>...</td>\n",
              "      <td>...</td>\n",
              "      <td>...</td>\n",
              "      <td>...</td>\n",
              "      <td>...</td>\n",
              "      <td>...</td>\n",
              "      <td>...</td>\n",
              "      <td>...</td>\n",
              "    </tr>\n",
              "    <tr>\n",
              "      <th>5108</th>\n",
              "      <td>2023-12-27</td>\n",
              "      <td>1.5</td>\n",
              "      <td>6.8</td>\n",
              "      <td>15:49</td>\n",
              "      <td>-2.8</td>\n",
              "      <td>8:13</td>\n",
              "      <td>9.6</td>\n",
              "      <td>2023</td>\n",
              "      <td>12-27</td>\n",
              "    </tr>\n",
              "    <tr>\n",
              "      <th>5109</th>\n",
              "      <td>2023-12-28</td>\n",
              "      <td>1.2</td>\n",
              "      <td>4.4</td>\n",
              "      <td>14:53</td>\n",
              "      <td>-1.7</td>\n",
              "      <td>6:20</td>\n",
              "      <td>6.1</td>\n",
              "      <td>2023</td>\n",
              "      <td>12-28</td>\n",
              "    </tr>\n",
              "    <tr>\n",
              "      <th>5110</th>\n",
              "      <td>2023-12-29</td>\n",
              "      <td>1.3</td>\n",
              "      <td>4.6</td>\n",
              "      <td>14:38</td>\n",
              "      <td>-1.5</td>\n",
              "      <td>7:25</td>\n",
              "      <td>6.1</td>\n",
              "      <td>2023</td>\n",
              "      <td>12-29</td>\n",
              "    </tr>\n",
              "    <tr>\n",
              "      <th>5111</th>\n",
              "      <td>2023-12-30</td>\n",
              "      <td>0.6</td>\n",
              "      <td>2.1</td>\n",
              "      <td>23:54</td>\n",
              "      <td>-0.9</td>\n",
              "      <td>2:37</td>\n",
              "      <td>3.0</td>\n",
              "      <td>2023</td>\n",
              "      <td>12-30</td>\n",
              "    </tr>\n",
              "    <tr>\n",
              "      <th>5112</th>\n",
              "      <td>2023-12-31</td>\n",
              "      <td>2.1</td>\n",
              "      <td>4.3</td>\n",
              "      <td>15:50</td>\n",
              "      <td>0.6</td>\n",
              "      <td>23:43</td>\n",
              "      <td>3.7</td>\n",
              "      <td>2023</td>\n",
              "      <td>12-31</td>\n",
              "    </tr>\n",
              "  </tbody>\n",
              "</table>\n",
              "<p>5111 rows × 9 columns</p>\n",
              "</div>"
            ],
            "text/plain": [
              "              일시  평균기온  최고기온 최고기온시각  최저기온    최저기온시각  일교차    년도     날짜\n",
              "0     2010-01-01  -7.6  -3.6  15:01 -12.7      6:54  9.1  2010  01-01\n",
              "1     2010-01-02  -3.6   0.2  15:24  -7.4     23:59  7.6  2010  01-02\n",
              "2     2010-01-03  -6.8  -3.2  14:38 -10.5      7:48  7.3  2010  01-03\n",
              "3     2010-01-04  -5.9  -3.4  14:25  -8.0  24:00:00  4.6  2010  01-04\n",
              "4     2010-01-05  -9.9  -7.0  15:06 -12.3     23:33  5.3  2010  01-05\n",
              "...          ...   ...   ...    ...   ...       ...  ...   ...    ...\n",
              "5108  2023-12-27   1.5   6.8  15:49  -2.8      8:13  9.6  2023  12-27\n",
              "5109  2023-12-28   1.2   4.4  14:53  -1.7      6:20  6.1  2023  12-28\n",
              "5110  2023-12-29   1.3   4.6  14:38  -1.5      7:25  6.1  2023  12-29\n",
              "5111  2023-12-30   0.6   2.1  23:54  -0.9      2:37  3.0  2023  12-30\n",
              "5112  2023-12-31   2.1   4.3  15:50   0.6     23:43  3.7  2023  12-31\n",
              "\n",
              "[5111 rows x 9 columns]"
            ]
          },
          "execution_count": 271,
          "metadata": {},
          "output_type": "execute_result"
        }
      ],
      "source": [
        "# 1단계 : '일시' 열에서 새로운 열 '년도'과 '날짜'열 생성\n",
        "data['년도'] = data['일시'].str[:4]\n",
        "data['날짜'] = data['일시'].str[5:]\n",
        "data"
      ]
    },
    {
      "cell_type": "code",
      "execution_count": 272,
      "metadata": {},
      "outputs": [
        {
          "name": "stdout",
          "output_type": "stream",
          "text": [
            "변경 전 <class 'str'>\n",
            "변경 후 <class 'numpy.int32'>\n"
          ]
        }
      ],
      "source": [
        "# 년도 데이터 str -> int32 변환(메모리 공간 절약을 위해 int32 사용)\n",
        "print('변경 전', type(data.년도[0]))\n",
        "data['년도'] = data['년도'].astype('int32')\n",
        "print('변경 후', type(data.년도[0]))"
      ]
    },
    {
      "cell_type": "code",
      "execution_count": 273,
      "metadata": {},
      "outputs": [
        {
          "data": {
            "text/plain": [
              "년도\n",
              "2010    12.140822\n",
              "2011    12.082192\n",
              "2012    12.268579\n",
              "2013    12.563562\n",
              "2014    13.400274\n",
              "2015    13.621918\n",
              "2016    13.592896\n",
              "2017    13.077747\n",
              "2018    13.002466\n",
              "2019    13.598904\n",
              "2020    13.271858\n",
              "2021    13.752055\n",
              "2022    13.259066\n",
              "2023    14.109041\n",
              "Name: 평균기온, dtype: float64"
            ]
          },
          "execution_count": 273,
          "metadata": {},
          "output_type": "execute_result"
        }
      ],
      "source": [
        "# 년도별로 평균기온의 평균 계산\n",
        "data.groupby('년도')['평균기온'].mean()"
      ]
    },
    {
      "cell_type": "code",
      "execution_count": 274,
      "metadata": {
        "id": "atP6Y8xlTIGz"
      },
      "outputs": [
        {
          "data": {
            "text/html": [
              "<div>\n",
              "<style scoped>\n",
              "    .dataframe tbody tr th:only-of-type {\n",
              "        vertical-align: middle;\n",
              "    }\n",
              "\n",
              "    .dataframe tbody tr th {\n",
              "        vertical-align: top;\n",
              "    }\n",
              "\n",
              "    .dataframe thead th {\n",
              "        text-align: right;\n",
              "    }\n",
              "</style>\n",
              "<table border=\"1\" class=\"dataframe\">\n",
              "  <thead>\n",
              "    <tr style=\"text-align: right;\">\n",
              "      <th></th>\n",
              "      <th>일시</th>\n",
              "      <th>평균기온</th>\n",
              "      <th>최고기온</th>\n",
              "      <th>최고기온시각</th>\n",
              "      <th>최저기온</th>\n",
              "      <th>최저기온시각</th>\n",
              "      <th>일교차</th>\n",
              "      <th>년도</th>\n",
              "      <th>날짜</th>\n",
              "    </tr>\n",
              "  </thead>\n",
              "  <tbody>\n",
              "    <tr>\n",
              "      <th>214</th>\n",
              "      <td>2010-08-03</td>\n",
              "      <td>27.6</td>\n",
              "      <td>32.1</td>\n",
              "      <td>16:03</td>\n",
              "      <td>24.0</td>\n",
              "      <td>5:57</td>\n",
              "      <td>8.1</td>\n",
              "      <td>2010</td>\n",
              "      <td>08-03</td>\n",
              "    </tr>\n",
              "    <tr>\n",
              "      <th>579</th>\n",
              "      <td>2011-08-03</td>\n",
              "      <td>25.4</td>\n",
              "      <td>28.1</td>\n",
              "      <td>10:26</td>\n",
              "      <td>23.7</td>\n",
              "      <td>5:57</td>\n",
              "      <td>4.4</td>\n",
              "      <td>2011</td>\n",
              "      <td>08-03</td>\n",
              "    </tr>\n",
              "    <tr>\n",
              "      <th>945</th>\n",
              "      <td>2012-08-03</td>\n",
              "      <td>31.3</td>\n",
              "      <td>35.4</td>\n",
              "      <td>16:10</td>\n",
              "      <td>27.1</td>\n",
              "      <td>5:25</td>\n",
              "      <td>8.3</td>\n",
              "      <td>2012</td>\n",
              "      <td>08-03</td>\n",
              "    </tr>\n",
              "    <tr>\n",
              "      <th>1310</th>\n",
              "      <td>2013-08-03</td>\n",
              "      <td>28.9</td>\n",
              "      <td>32.6</td>\n",
              "      <td>16:02</td>\n",
              "      <td>26.7</td>\n",
              "      <td>5:41</td>\n",
              "      <td>5.9</td>\n",
              "      <td>2013</td>\n",
              "      <td>08-03</td>\n",
              "    </tr>\n",
              "    <tr>\n",
              "      <th>1675</th>\n",
              "      <td>2014-08-03</td>\n",
              "      <td>26.5</td>\n",
              "      <td>30.5</td>\n",
              "      <td>12:09</td>\n",
              "      <td>24.1</td>\n",
              "      <td>5:32</td>\n",
              "      <td>6.4</td>\n",
              "      <td>2014</td>\n",
              "      <td>08-03</td>\n",
              "    </tr>\n",
              "    <tr>\n",
              "      <th>2040</th>\n",
              "      <td>2015-08-03</td>\n",
              "      <td>27.9</td>\n",
              "      <td>31.5</td>\n",
              "      <td>15:10</td>\n",
              "      <td>25.6</td>\n",
              "      <td>5:50</td>\n",
              "      <td>5.9</td>\n",
              "      <td>2015</td>\n",
              "      <td>08-03</td>\n",
              "    </tr>\n",
              "    <tr>\n",
              "      <th>2406</th>\n",
              "      <td>2016-08-03</td>\n",
              "      <td>29.1</td>\n",
              "      <td>34.2</td>\n",
              "      <td>16:15</td>\n",
              "      <td>24.0</td>\n",
              "      <td>5:42</td>\n",
              "      <td>10.2</td>\n",
              "      <td>2016</td>\n",
              "      <td>08-03</td>\n",
              "    </tr>\n",
              "    <tr>\n",
              "      <th>2771</th>\n",
              "      <td>2017-08-03</td>\n",
              "      <td>30.2</td>\n",
              "      <td>33.9</td>\n",
              "      <td>15:18</td>\n",
              "      <td>27.2</td>\n",
              "      <td>6:10</td>\n",
              "      <td>6.7</td>\n",
              "      <td>2017</td>\n",
              "      <td>08-03</td>\n",
              "    </tr>\n",
              "    <tr>\n",
              "      <th>3136</th>\n",
              "      <td>2018-08-03</td>\n",
              "      <td>33.1</td>\n",
              "      <td>37.9</td>\n",
              "      <td>14:15</td>\n",
              "      <td>30.0</td>\n",
              "      <td>23:42</td>\n",
              "      <td>7.9</td>\n",
              "      <td>2018</td>\n",
              "      <td>08-03</td>\n",
              "    </tr>\n",
              "    <tr>\n",
              "      <th>3501</th>\n",
              "      <td>2019-08-03</td>\n",
              "      <td>29.4</td>\n",
              "      <td>36.0</td>\n",
              "      <td>14:11</td>\n",
              "      <td>25.6</td>\n",
              "      <td>5:36</td>\n",
              "      <td>10.4</td>\n",
              "      <td>2019</td>\n",
              "      <td>08-03</td>\n",
              "    </tr>\n",
              "    <tr>\n",
              "      <th>3867</th>\n",
              "      <td>2020-08-03</td>\n",
              "      <td>25.0</td>\n",
              "      <td>26.3</td>\n",
              "      <td>1:42</td>\n",
              "      <td>23.9</td>\n",
              "      <td>20:02</td>\n",
              "      <td>2.4</td>\n",
              "      <td>2020</td>\n",
              "      <td>08-03</td>\n",
              "    </tr>\n",
              "    <tr>\n",
              "      <th>4232</th>\n",
              "      <td>2021-08-03</td>\n",
              "      <td>28.0</td>\n",
              "      <td>31.4</td>\n",
              "      <td>14:41</td>\n",
              "      <td>24.1</td>\n",
              "      <td>5:38</td>\n",
              "      <td>7.3</td>\n",
              "      <td>2021</td>\n",
              "      <td>08-03</td>\n",
              "    </tr>\n",
              "    <tr>\n",
              "      <th>4597</th>\n",
              "      <td>2022-08-03</td>\n",
              "      <td>27.1</td>\n",
              "      <td>30.0</td>\n",
              "      <td>16:00</td>\n",
              "      <td>25.2</td>\n",
              "      <td>4:57</td>\n",
              "      <td>4.8</td>\n",
              "      <td>2022</td>\n",
              "      <td>08-03</td>\n",
              "    </tr>\n",
              "    <tr>\n",
              "      <th>4962</th>\n",
              "      <td>2023-08-03</td>\n",
              "      <td>29.5</td>\n",
              "      <td>33.8</td>\n",
              "      <td>14:46</td>\n",
              "      <td>25.8</td>\n",
              "      <td>6:15</td>\n",
              "      <td>8.0</td>\n",
              "      <td>2023</td>\n",
              "      <td>08-03</td>\n",
              "    </tr>\n",
              "  </tbody>\n",
              "</table>\n",
              "</div>"
            ],
            "text/plain": [
              "              일시  평균기온  최고기온 최고기온시각  최저기온 최저기온시각   일교차    년도     날짜\n",
              "214   2010-08-03  27.6  32.1  16:03  24.0   5:57   8.1  2010  08-03\n",
              "579   2011-08-03  25.4  28.1  10:26  23.7   5:57   4.4  2011  08-03\n",
              "945   2012-08-03  31.3  35.4  16:10  27.1   5:25   8.3  2012  08-03\n",
              "1310  2013-08-03  28.9  32.6  16:02  26.7   5:41   5.9  2013  08-03\n",
              "1675  2014-08-03  26.5  30.5  12:09  24.1   5:32   6.4  2014  08-03\n",
              "2040  2015-08-03  27.9  31.5  15:10  25.6   5:50   5.9  2015  08-03\n",
              "2406  2016-08-03  29.1  34.2  16:15  24.0   5:42  10.2  2016  08-03\n",
              "2771  2017-08-03  30.2  33.9  15:18  27.2   6:10   6.7  2017  08-03\n",
              "3136  2018-08-03  33.1  37.9  14:15  30.0  23:42   7.9  2018  08-03\n",
              "3501  2019-08-03  29.4  36.0  14:11  25.6   5:36  10.4  2019  08-03\n",
              "3867  2020-08-03  25.0  26.3   1:42  23.9  20:02   2.4  2020  08-03\n",
              "4232  2021-08-03  28.0  31.4  14:41  24.1   5:38   7.3  2021  08-03\n",
              "4597  2022-08-03  27.1  30.0  16:00  25.2   4:57   4.8  2022  08-03\n",
              "4962  2023-08-03  29.5  33.8  14:46  25.8   6:15   8.0  2023  08-03"
            ]
          },
          "execution_count": 274,
          "metadata": {},
          "output_type": "execute_result"
        }
      ],
      "source": [
        "# 2단계 : 생성된 '날짜'열 값에서 본인 생일과 동일한 날짜 검색하여 birthData 변수에 저장\n",
        "# 예: data[data['날짜']=='10-01']\n",
        "birthData = data[data['날짜'] == '08-03']\n",
        "birthData"
      ]
    },
    {
      "cell_type": "code",
      "execution_count": 275,
      "metadata": {},
      "outputs": [
        {
          "name": "stdout",
          "output_type": "stream",
          "text": [
            "     년도  최고기온\n",
            "0  2018  37.9\n",
            "     년도  최저기온\n",
            "0  2018  30.0\n"
          ]
        }
      ],
      "source": [
        "# 내 생일날 중에서 최고기온, 최저기온의 연도는?\n",
        "max_temp_birthday = birthData.loc[birthData['최고기온'] == birthData['최고기온'].max(), ['년도','최고기온']].reset_index(drop=True)\n",
        "print(max_temp_birthday)\n",
        "min_temp_birthday = birthData.loc[birthData['최저기온'] == birthData['최저기온'].max(), ['년도','최저기온']].reset_index(drop=True)\n",
        "print(min_temp_birthday)"
      ]
    },
    {
      "cell_type": "code",
      "execution_count": 276,
      "metadata": {
        "id": "6w9K8oeypRtK"
      },
      "outputs": [
        {
          "name": "stdout",
          "output_type": "stream",
          "text": [
            "Note: you may need to restart the kernel to use updated packages.\n"
          ]
        },
        {
          "name": "stderr",
          "output_type": "stream",
          "text": [
            "ERROR: Invalid requirement: '#': Expected package name at the start of dependency specifier\n",
            "    #\n",
            "    ^\n"
          ]
        }
      ],
      "source": [
        "%pip install matplotlib # matplotlib 설치"
      ]
    },
    {
      "cell_type": "code",
      "execution_count": 277,
      "metadata": {},
      "outputs": [
        {
          "data": {
            "image/png": "[encoded data removed]",
            "text/plain": [
              "<Figure size 640x480 with 1 Axes>"
            ]
          },
          "metadata": {},
          "output_type": "display_data"
        }
      ],
      "source": [
        "# 연도별 평균기온 그래프 그리기\n",
        "import matplotlib.pyplot as plt\n",
        "meanData = data.groupby('년도')['평균기온'].mean()\n",
        "plt.plot(meanData)\n",
        "plt.show()"
      ]
    },
    {
      "cell_type": "code",
      "execution_count": 278,
      "metadata": {},
      "outputs": [
        {
          "data": {
            "image/png": "[encoded data removed]",
            "text/plain": [
              "<Figure size 640x480 with 1 Axes>"
            ]
          },
          "metadata": {},
          "output_type": "display_data"
        }
      ],
      "source": [
        "# 3단계 :'년도(2010 ~ 2023)'별로 '최고기온'과 '최저기온' 꺽은선 그래프 작성, birthData 변수 이용\n",
        "# 차트 사이즈 : 가로 - 12 inch, 세로 - 10 inch\n",
        "\n",
        "plt.plot(birthData['년도'], birthData['최고기온'], label ='max')\n",
        "plt.plot(birthData['년도'], birthData['최저기온'], label ='min')\n",
        "plt.legend() # 범례 표시\n",
        "plt.show()"
      ]
    }
  ],
  "metadata": {
    "colab": {
      "provenance": []
    },
    "kernelspec": {
      "display_name": "Python 3",
      "name": "python3"
    },
    "language_info": {
      "codemirror_mode": {
        "name": "ipython",
        "version": 3
      },
      "file_extension": ".py",
      "mimetype": "text/x-python",
      "name": "python",
      "nbconvert_exporter": "python",
      "pygments_lexer": "ipython3",
      "version": "3.12.1"
    }
  },
  "nbformat": 4,
  "nbformat_minor": 0
}
