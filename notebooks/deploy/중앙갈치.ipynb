{
 "cells": [
  {
   "cell_type": "code",
   "execution_count": 33,
   "metadata": {},
   "outputs": [
    {
     "name": "stdout",
     "output_type": "stream",
     "text": [
      "2025-08-03 00:00:00\n"
     ]
    }
   ],
   "source": [
    "import datetime\n",
    "import pandas as pd\n",
    "\n",
    "# 기준일을 지정합니다.\n",
    "startday = datetime.datetime.strptime(\"2024-07-21\", '%Y-%m-%d')\n",
    "# 오늘 날짜를 가져옵니다.\n",
    "today = datetime.datetime.today()\n",
    "\n",
    "# 오늘 날짜와 기준일의 차이를 계산합니다.\n",
    "deltatime = today - startday\n",
    "deltatime_to_int = deltatime.days # range에 넣기 위해 int로 변환\n",
    "\n",
    "sundays = []\n",
    "# 오늘부터 2주 단위로 일요일을 표시합니다.\n",
    "for i in range(0, deltatime_to_int+7, 14):\n",
    "    sunday = startday + datetime.timedelta(days=i)\n",
    "    sundays.append(sunday)\n",
    "\n",
    "result = sundays[-1]\n",
    "print(result)"
   ]
  }
 ],
 "metadata": {
  "kernelspec": {
   "display_name": ".venv",
   "language": "python",
   "name": "python3"
  },
  "language_info": {
   "codemirror_mode": {
    "name": "ipython",
    "version": 3
   },
   "file_extension": ".py",
   "mimetype": "text/x-python",
   "name": "python",
   "nbconvert_exporter": "python",
   "pygments_lexer": "ipython3",
   "version": "3.12.1"
  }
 },
 "nbformat": 4,
 "nbformat_minor": 2
}
