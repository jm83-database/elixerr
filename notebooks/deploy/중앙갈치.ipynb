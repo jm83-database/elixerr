{
 "cells": [
  {
   "cell_type": "code",
   "execution_count": 56,
   "metadata": {},
   "outputs": [
    {
     "name": "stdout",
     "output_type": "stream",
     "text": [
      "환영합니다.\n",
      " 2주 단위로 쉬는 일요일을 알려주는 프로그램입니다.\n",
      "중앙갈치이/가 쉬었던 가까운 일요일은 2024-8-4입니다.\n",
      "다가오는 쉬는 날은 2024-8-18입니다.\n",
      "\n"
     ]
    }
   ],
   "source": [
    "import datetime\n",
    "import pandas as pd\n",
    "\n",
    "print(\"환영합니다.\\n2주 단위로 쉬는 일요일을 알려주는 프로그램입니다.\")\n",
    "# 원하는 식당명을 받습니다.\n",
    "restaurant_id = input(\"입력하고 싶은 식당명을 입력해주세요 : \")\n",
    "\n",
    "# 기준일을 입력합니다.\n",
    "startday_input = input(\"기준일을 입력해주세요(예)20240721) : \")\n",
    "startday_fomatting = startday_input[0:4] + '-' + startday_input[4:6] + '-' + startday_input[6:]\n",
    "startday = datetime.datetime.strptime(startday_fomatting, '%Y-%m-%d') # string → datetime 변환\n",
    "# 오늘 날짜를 가져옵니다.\n",
    "today = datetime.datetime.today()\n",
    "\n",
    "# 오늘 날짜와 기준일의 차이를 계산합니다.\n",
    "delta_time = today - startday\n",
    "delta_time_to_int = delta_time.days # range에 넣기 위해 datatime → int로 변환\n",
    "\n",
    "sundays = []\n",
    "# 오늘을 기준으로 최근 쉬었던 일요일을 찾아줍니다.\n",
    "for i in range(0, delta_time_to_int, 14):\n",
    "    sunday = startday + datetime.timedelta(days=i)\n",
    "    sundays.append(sunday)\n",
    "\n",
    "past_sunday_off = sundays[-1]\n",
    "next_sunday_off = past_sunday_off + datetime.timedelta(days=14)\n",
    "\n",
    "text = f'''{restaurant_id}이/가 쉬었던 가까운 일요일은 {past_sunday_off.year}-{past_sunday_off.month}-{past_sunday_off.day}입니다.\n",
    "다가오는 쉬는 날은 {next_sunday_off.year}-{next_sunday_off.month}-{next_sunday_off.day}입니다.\n",
    "'''\n",
    "print(text)"
   ]
  }
 ],
 "metadata": {
  "kernelspec": {
   "display_name": ".venv",
   "language": "python",
   "name": "python3"
  },
  "language_info": {
   "codemirror_mode": {
    "name": "ipython",
    "version": 3
   },
   "file_extension": ".py",
   "mimetype": "text/x-python",
   "name": "python",
   "nbconvert_exporter": "python",
   "pygments_lexer": "ipython3",
   "version": "3.12.1"
  }
 },
 "nbformat": 4,
 "nbformat_minor": 2
}
