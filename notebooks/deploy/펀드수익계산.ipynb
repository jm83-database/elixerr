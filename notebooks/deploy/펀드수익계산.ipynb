{
 "cells": [
  {
   "cell_type": "code",
   "execution_count": 6,
   "metadata": {},
   "outputs": [
    {
     "name": "stdout",
     "output_type": "stream",
     "text": [
      "success\n"
     ]
    }
   ],
   "source": [
    "import requests\n",
    "from bs4 import BeautifulSoup\n",
    "\n",
    "# ace 글로벌반도체top4 plus solactive\n",
    "def get_stock_price(stock_code):\n",
    "    url = f\"https://finance.naver.com/item/main.nhn?code={stock_code}\"\n",
    "    response = requests.get(url)\n",
    "    response.raise_for_status()  # 요청이 성공했는지 확인\n",
    "\n",
    "    soup = BeautifulSoup(response.text, 'html.parser')\n",
    "    print(\"success\")\n",
    "    # price = soup.select_one('p.no_today span.blind').text\n",
    "    # return price\n",
    "\n",
    "# 사용자 입력 받기\n",
    "stock_code = input(\"종목 코드를 입력하세요: \")\n",
    "price = get_stock_price(stock_code)\n",
    "# print(f\"현재 {stock_code}의 주가는 {price}원입니다.\")\n"
   ]
  }
 ],
 "metadata": {
  "kernelspec": {
   "display_name": ".venv",
   "language": "python",
   "name": "python3"
  },
  "language_info": {
   "codemirror_mode": {
    "name": "ipython",
    "version": 3
   },
   "file_extension": ".py",
   "mimetype": "text/x-python",
   "name": "python",
   "nbconvert_exporter": "python",
   "pygments_lexer": "ipython3",
   "version": "3.12.1"
  }
 },
 "nbformat": 4,
 "nbformat_minor": 2
}
