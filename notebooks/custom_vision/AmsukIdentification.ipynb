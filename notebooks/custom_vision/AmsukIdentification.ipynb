{
 "cells": [
  {
   "cell_type": "code",
   "execution_count": 3,
   "metadata": {},
   "outputs": [],
   "source": [
    "from azure.cognitiveservices.vision.customvision.prediction import CustomVisionPredictionClient\n",
    "from msrest.authentication import ApiKeyCredentials"
   ]
  },
  {
   "cell_type": "code",
   "execution_count": 1,
   "metadata": {},
   "outputs": [],
   "source": [
    "#prediction_key = \"700799768f3a4f708adb9591616e4932\"\n",
    "#prediction_endpoint = \"https://customtest-prediction.cognitiveservices.azure.com\"\n",
    "#project_id = \"2a6e1202-f478-46da-bd97-a0e00651d015\"\n",
    "#model_name = \"Iteration1\"\n",
    "\n",
    "prediction_key = \"b93d9e9adc60420d9c944dd64be3ccc9\"\n",
    "prediction_endpoint = \"https://bsubcustomvision1-prediction.cognitiveservices.azure.com/\"\n",
    "project_id = \"aa003423-cb46-49b1-9bb4-bf0211c0c367\"\n",
    "model_name = \"Iteration1\""
   ]
  },
  {
   "cell_type": "code",
   "execution_count": 4,
   "metadata": {},
   "outputs": [],
   "source": [
    "credentials = ApiKeyCredentials(in_headers={\"Prediction-key\": prediction_key})\n",
    "predictor = CustomVisionPredictionClient(endpoint=prediction_endpoint, credentials=credentials)"
   ]
  },
  {
   "cell_type": "code",
   "execution_count": 7,
   "metadata": {},
   "outputs": [
    {
     "name": "stdout",
     "output_type": "stream",
     "text": [
      "Tag: highland, Probability: 0.98\n",
      "Tag: basalt, Probability: 0.02\n"
     ]
    }
   ],
   "source": [
    "image_file = \"../../data/custom_vision/달암석분류/Highland/Test/Crustal_Anorthosite_s71-42954.jpg\"\n",
    "\n",
    "with open(image_file, mode=\"rb\") as image_data:\n",
    "    results = predictor.classify_image(project_id, model_name, image_data)\n",
    "\n",
    "for prediction in results.predictions:\n",
    "    print(f\"Tag: {prediction.tag_name}, Probability: {prediction.probability:.2f}\")\n"
   ]
  }
 ],
 "metadata": {
  "kernelspec": {
   "display_name": "Python 3",
   "language": "python",
   "name": "python3"
  },
  "language_info": {
   "codemirror_mode": {
    "name": "ipython",
    "version": 3
   },
   "file_extension": ".py",
   "mimetype": "text/x-python",
   "name": "python",
   "nbconvert_exporter": "python",
   "pygments_lexer": "ipython3",
   "version": "3.12.1"
  }
 },
 "nbformat": 4,
 "nbformat_minor": 2
}
